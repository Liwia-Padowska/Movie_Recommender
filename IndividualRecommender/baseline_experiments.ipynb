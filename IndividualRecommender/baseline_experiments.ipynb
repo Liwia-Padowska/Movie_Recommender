{
 "cells": [
  {
   "cell_type": "markdown",
   "metadata": {},
   "source": [
    "### BASELINE MODELS FOR INDIVIDUAL RECOMMENDER ###"
   ]
  },
  {
   "attachments": {},
   "cell_type": "markdown",
   "metadata": {},
   "source": [
    "In this notebook we are going to implement some baseline algorithms for oferring recommendations to individual users.\n",
    "\n",
    "As mentioned in the data document, we are going to start by implementing \"basic.Popular\" from the Lenskit library.\n",
    "\n",
    "The mentioned algorithm will recommend the items, movie in this case, ordered by popularity. \n",
    "\n",
    "First, we will import the required libraries for Lenskit"
   ]
  },
  {
   "cell_type": "code",
   "execution_count": 1,
   "metadata": {},
   "outputs": [],
   "source": [
    "import numpy as np\n",
    "from lenskit import batch, crossfold\n",
    "from lenskit.algorithms import Recommender, bias, basic, item_knn\n",
    "from lenskit.metrics.predict import rmse, user_metric\n",
    "from lenskit.algorithms import basic\n",
    "from sklearn.metrics import mean_absolute_error\n",
    "from sklearn.metrics import ndcg_score\n"
   ]
  },
  {
   "attachments": {},
   "cell_type": "markdown",
   "metadata": {},
   "source": [
    "Now we will upload the pre-processed data from the previous notebook we created. "
   ]
  },
  {
   "cell_type": "code",
   "execution_count": 2,
   "metadata": {},
   "outputs": [
    {
     "data": {
      "text/html": [
       "<div>\n",
       "<style scoped>\n",
       "    .dataframe tbody tr th:only-of-type {\n",
       "        vertical-align: middle;\n",
       "    }\n",
       "\n",
       "    .dataframe tbody tr th {\n",
       "        vertical-align: top;\n",
       "    }\n",
       "\n",
       "    .dataframe thead th {\n",
       "        text-align: right;\n",
       "    }\n",
       "</style>\n",
       "<table border=\"1\" class=\"dataframe\">\n",
       "  <thead>\n",
       "    <tr style=\"text-align: right;\">\n",
       "      <th></th>\n",
       "      <th>user</th>\n",
       "      <th>item</th>\n",
       "      <th>rating</th>\n",
       "      <th>timestamp</th>\n",
       "    </tr>\n",
       "  </thead>\n",
       "  <tbody>\n",
       "    <tr>\n",
       "      <th>0</th>\n",
       "      <td>17783</td>\n",
       "      <td>5954</td>\n",
       "      <td>5.0</td>\n",
       "      <td>1288572640</td>\n",
       "    </tr>\n",
       "    <tr>\n",
       "      <th>1</th>\n",
       "      <td>147353</td>\n",
       "      <td>2805</td>\n",
       "      <td>2.0</td>\n",
       "      <td>979368264</td>\n",
       "    </tr>\n",
       "    <tr>\n",
       "      <th>2</th>\n",
       "      <td>32778</td>\n",
       "      <td>1982</td>\n",
       "      <td>4.0</td>\n",
       "      <td>1559214270</td>\n",
       "    </tr>\n",
       "    <tr>\n",
       "      <th>3</th>\n",
       "      <td>17160</td>\n",
       "      <td>1225</td>\n",
       "      <td>4.5</td>\n",
       "      <td>1151466878</td>\n",
       "    </tr>\n",
       "    <tr>\n",
       "      <th>4</th>\n",
       "      <td>58005</td>\n",
       "      <td>6537</td>\n",
       "      <td>3.0</td>\n",
       "      <td>1112739432</td>\n",
       "    </tr>\n",
       "    <tr>\n",
       "      <th>5</th>\n",
       "      <td>133040</td>\n",
       "      <td>736</td>\n",
       "      <td>2.0</td>\n",
       "      <td>1076959711</td>\n",
       "    </tr>\n",
       "    <tr>\n",
       "      <th>6</th>\n",
       "      <td>73670</td>\n",
       "      <td>4975</td>\n",
       "      <td>2.0</td>\n",
       "      <td>1415292692</td>\n",
       "    </tr>\n",
       "    <tr>\n",
       "      <th>7</th>\n",
       "      <td>118041</td>\n",
       "      <td>1248</td>\n",
       "      <td>4.5</td>\n",
       "      <td>1522631138</td>\n",
       "    </tr>\n",
       "    <tr>\n",
       "      <th>8</th>\n",
       "      <td>73268</td>\n",
       "      <td>122904</td>\n",
       "      <td>0.5</td>\n",
       "      <td>1475355740</td>\n",
       "    </tr>\n",
       "    <tr>\n",
       "      <th>9</th>\n",
       "      <td>133495</td>\n",
       "      <td>1388</td>\n",
       "      <td>1.0</td>\n",
       "      <td>991281570</td>\n",
       "    </tr>\n",
       "  </tbody>\n",
       "</table>\n",
       "</div>"
      ],
      "text/plain": [
       "     user    item  rating   timestamp\n",
       "0   17783    5954     5.0  1288572640\n",
       "1  147353    2805     2.0   979368264\n",
       "2   32778    1982     4.0  1559214270\n",
       "3   17160    1225     4.5  1151466878\n",
       "4   58005    6537     3.0  1112739432\n",
       "5  133040     736     2.0  1076959711\n",
       "6   73670    4975     2.0  1415292692\n",
       "7  118041    1248     4.5  1522631138\n",
       "8   73268  122904     0.5  1475355740\n",
       "9  133495    1388     1.0   991281570"
      ]
     },
     "metadata": {},
     "output_type": "display_data"
    }
   ],
   "source": [
    "import pandas as pd\n",
    "preprocessed_dataset_folder = \"../Data/PreprocessedDataset\"\n",
    "ratings_df = pd.read_csv(preprocessed_dataset_folder+\"/ratings.csv\")\n",
    "display(ratings_df.head(10))\n"
   ]
  },
  {
   "attachments": {},
   "cell_type": "markdown",
   "metadata": {},
   "source": [
    "What are the pros and cons of the first baseline, on our MovieLens dataset?\n",
    "\n",
    "-it is a basic algorithm, easy to scale for a big dataset like ours, even if we use small samples \n",
    "\n",
    "-will be our first comparison point to more advanced soltuions \n",
    "\n",
    "-it s a non personalized algorithm so unfortunetally will not take into consideration users prefferences, but will be \n",
    "\n",
    "interesing to compare with peronalized baselines. "
   ]
  },
  {
   "attachments": {},
   "cell_type": "markdown",
   "metadata": {},
   "source": []
  },
  {
   "cell_type": "code",
   "execution_count": 8,
   "metadata": {},
   "outputs": [],
   "source": [
    "popular_recommender = Recommender.adapt(basic.Popular()) "
   ]
  },
  {
   "attachments": {},
   "cell_type": "markdown",
   "metadata": {},
   "source": [
    "For splitting our data into test and train sets we will use the K-fold cross validation. \n",
    "\n",
    "This has the advantage of evaluating the algorithm on different subsets of the data each time so we can have a better conclusion how it performs on different unseen data sets."
   ]
  },
  {
   "attachments": {},
   "cell_type": "markdown",
   "metadata": {},
   "source": [
    "We experimented using different values for the number of folds (3,5,7,9) to see which one will obtain the lowest root mean squared error. "
   ]
  },
  {
   "attachments": {},
   "cell_type": "markdown",
   "metadata": {},
   "source": [
    "Now we will train our algorithm on the k-1 folds and test on the k last fold. \n",
    "We will experiment which number of folds gives us most reliable results. We will be looking for one which has more stratified folds\n",
    "i.e. which has lower deviation beetwen values of rmse for each fold."
   ]
  },
  {
   "cell_type": "code",
   "execution_count": 26,
   "metadata": {},
   "outputs": [
    {
     "name": "stdout",
     "output_type": "stream",
     "text": [
      "Number of folds 3 RMSE: 1.54, MAE: 1.28, nDCG: 0.93\n",
      "Number of folds 5 RMSE: 1.59, MAE: 1.33, nDCG: 0.95\n",
      "Number of folds 7 RMSE: 1.57, MAE: 1.31, nDCG: 0.93\n",
      "Number of folds 9 RMSE: 1.57, MAE: 1.31, nDCG: 0.98\n"
     ]
    }
   ],
   "source": [
    "import numpy as np\n",
    "import matplotlib.pyplot as plt\n",
    "\n",
    "rmse_values = []\n",
    "all_values = []\n",
    "for k in range(3, 10, 2):\n",
    "        \n",
    "        total_rmse = 0\n",
    "        total_mae = 0\n",
    "        splits = crossfold.partition_users(ratings_df, k, crossfold.SampleFrac(1.0/k))\n",
    "        fold_rmse_values = []   \n",
    "        ndcg_sum = 0\n",
    "        for i, (train, test) in enumerate(splits):\n",
    "                #copy our splits to not modify the data\n",
    "                train_ratings = train.copy()\n",
    "                test_ratings = test.copy()\n",
    "\n",
    "                #fit the popular model\n",
    "                popular_recommender.fit(train_ratings)\n",
    "                \n",
    "                users = test_ratings['user'].unique()\n",
    "                recommendations = batch.recommend(popular_recommender, users,None)\n",
    "                min_score = recommendations['score'].min()\n",
    "                max_score = recommendations['score'].max()\n",
    "\n",
    "                recommendations['score'] = 5 * (recommendations['score'] - min_score) / (max_score - min_score) # to set ratings between 0 and 5\n",
    "        \n",
    "                #we evaluate the recoomendations comparing the ratings with our predictions\n",
    "                test_pred = pd.merge(test_ratings[['user', 'item', 'rating']], recommendations, on=['user', 'item'])\n",
    "                test_rmse = rmse(test_pred['rating'], test_pred['score'])\n",
    "                fold_rmse_values.append(test_rmse)\n",
    "                test_mae = mean_absolute_error(test_pred['rating'], test_pred['score'])\n",
    "                ndcg_value = ndcg_score([test_pred['rating'].head(10).apply(lambda x: 1 if x>2.5 else 0)], [test_pred['score'].head(10).apply(lambda x: 1 if x>2.5 else 0)])\n",
    "                ndcg_sum+=ndcg_value/k\n",
    "        \n",
    "                total_rmse += test_rmse/k\n",
    "                total_mae += test_mae/k\n",
    "        rmse_values.append(fold_rmse_values)\n",
    "        all_values.append([total_rmse, total_mae, ndcg_sum])\n",
    "        print(f'Number of folds {k} RMSE: {total_rmse:.2f}, MAE: {total_mae:.2f}, nDCG: {ndcg_sum:.2f}')"
   ]
  },
  {
   "cell_type": "markdown",
   "metadata": {},
   "source": [
    "From the graph bellow we can see that eventhough when number of folds is equal to 3 we get highest mean rmse score, we can see that deviation of fold is the smallest and it is most probable that in that case we get more stratified folds. Note: I run 3 times this experiment and in each of them I get same results that 3 folds is best. We use RMSE because we want to penalize outliers and most of all we want to give a fair prediction for all users. "
   ]
  },
  {
   "cell_type": "code",
   "execution_count": 27,
   "metadata": {},
   "outputs": [
    {
     "data": {
      "image/png": "[encoded data removed]",
      "text/plain": [
       "<Figure size 1000x600 with 1 Axes>"
      ]
     },
     "metadata": {},
     "output_type": "display_data"
    }
   ],
   "source": [
    "plt.figure(figsize=(10, 6))\n",
    "plt.boxplot(rmse_values, positions=np.arange(3, 10, 2))\n",
    "plt.xlabel('Number of Folds (K)')\n",
    "plt.ylabel('RMSE')\n",
    "plt.title('RMSE for Different Numbers of Folds')\n",
    "plt.xticks(ticks=np.arange(3, 10, 2), labels=[str(i) for i in range(3, 10, 2)])\n",
    "plt.show()"
   ]
  },
  {
   "attachments": {},
   "cell_type": "markdown",
   "metadata": {},
   "source": [
    "Now we will implement another baseline in order to compare with the popularity one, which did not performed that good.\n",
    "\n",
    " The results will be compared and disussed later. The new baseline we will implement is BiasOnly model.\n",
    " \n",
    "The pros and cons for this algorithm and why we chose it are:\n",
    "\n",
    "-as being simple algorithm, is again suitable for large and sparse datasets as our \n",
    "\n",
    "-in comparison with the popularity one this is personalized taking into account item and user biases\n",
    "\n"
   ]
  },
  {
   "cell_type": "code",
   "execution_count": 16,
   "metadata": {},
   "outputs": [],
   "source": [
    "bias_recommender = Recommender.adapt(bias.Bias())"
   ]
  },
  {
   "attachments": {},
   "cell_type": "markdown",
   "metadata": {},
   "source": [
    "We will use the same k fold cross validation explained above with only 3 folds as provided the best results. We also need to keep the same evaluation structure for the sake of comparison. The code will remain the same, as explained above. "
   ]
  },
  {
   "cell_type": "code",
   "execution_count": 36,
   "metadata": {},
   "outputs": [
    {
     "name": "stdout",
     "output_type": "stream",
     "text": [
      "Split 1 RMSE: 0.87, MAE: 0.69\n",
      "Split 2 RMSE: 1.07, MAE: 0.89\n",
      "Split 3 RMSE: 0.90, MAE: 0.71\n",
      "Average RMSE over all splits for Bias algo : 0.95\n",
      "Average MAE over all splits: 0.76\n",
      "Average nDCG over all splits: 0.99\n"
     ]
    }
   ],
   "source": [
    "splits = crossfold.partition_users(ratings_df, 3, crossfold.SampleFrac(1.0/3))\n",
    "media_rmse_2 = 0\n",
    "media_mae_2 = 0\n",
    "ndcg_sum2 = 0\n",
    "for i, (train, test) in enumerate(splits):\n",
    "        #copy our splits to not modify the data\n",
    "        train_ratings2 = train.copy()\n",
    "        test_ratings2 = test.copy()\n",
    "\n",
    "       #fit the popular model\n",
    "        bias_recommender.fit(train_ratings2)\n",
    "        \n",
    "        recommendations2 = batch.predict(bias_recommender, test_ratings2).sort_values(by='prediction', ascending=False)\n",
    "        min_score2 = recommendations2['prediction'].min()\n",
    "        max_score2 = recommendations2['prediction'].max()\n",
    "\n",
    "\n",
    "        recommendations2['prediction'] = 5 * (recommendations2['prediction'] - min_score2) / (max_score2 - min_score2)\n",
    "\n",
    "        #we evsaluate the recoomendations ccomparing the ratings with our predictions\n",
    "        test_rmse2 = rmse(recommendations2['rating'], recommendations2['prediction'])\n",
    "        test_mae2 = mean_absolute_error(recommendations2['rating'], recommendations2['prediction'])\n",
    "        ndcg_value = ndcg_score([recommendations2['rating'].head(10).apply(lambda x: 1 if x>2.5 else 0)], [recommendations2['prediction'].head(10).apply(lambda x: 1 if x>2.5 else 0)])\n",
    "        ndcg_sum2+=ndcg_value\n",
    "        media_rmse_2 = media_rmse_2 +test_rmse2\n",
    "        media_mae_2 = media_mae_2 + test_mae2\n",
    "        \n",
    "        print(f'Split {i + 1} RMSE: {test_rmse2:.2f}, MAE: {test_mae2:.2f}')\n",
    "        \n",
    "average_rmse_2 = media_rmse_2 / 3 \n",
    "print(f'Average RMSE over all splits for Bias algo : {average_rmse_2:.2f}')\n",
    "average_mae_2 = media_mae_2 / 3\n",
    "print(f'Average MAE over all splits: {average_mae_2:.2f}')\n",
    "average_ndcg_2 = ndcg_sum2 / 3\n",
    "print(f'Average nDCG over all splits: {average_ndcg_2:.2f}')"
   ]
  },
  {
   "attachments": {},
   "cell_type": "markdown",
   "metadata": {},
   "source": [
    "Now let's combine the two created baselines and use the fallback algorithm which will take as parameters both the Popularity and Bias algorithms.\n",
    "\n",
    " The idea here is that we will use our Bias algorithm first and if it fails to generate recommendations, the fallback method will then use Popularity algorithm.\n",
    " \n",
    "  In such case recommendations might be combined so we will expect better diversity and at the end, basically better results. We will see if this hypothesis holds.\n",
    "\n",
    "The fallback method will have increased complexity but this is fine as we only work with a small sample od the data.\n",
    "\n",
    "For the sake of comparison, the k-fold cross validation will stay the same as disucssed above. \n",
    "\n",
    "One advantage of adding popularity as a fallback to bias might be \"the cold start problem\". On the other hand, we might be more prone to overfitting so it can in some situations obtain a larger error. "
   ]
  },
  {
   "cell_type": "code",
   "execution_count": 19,
   "metadata": {},
   "outputs": [],
   "source": [
    "#our previous baselines we will use for the fallback \n",
    "algorithms = [bias_recommender, popular_recommender] \n",
    "fallback_recommender = basic.Fallback(algorithms)\n"
   ]
  },
  {
   "cell_type": "code",
   "execution_count": 29,
   "metadata": {},
   "outputs": [
    {
     "name": "stdout",
     "output_type": "stream",
     "text": [
      "Split 1 RMSE: 1.04, MAE: 0.86, nDCG: 0.99\n",
      "Split 2 RMSE: 0.90, MAE: 0.72, nDCG: 0.98\n",
      "Split 3 RMSE: 0.84, MAE: 0.64, nDCG: 0.98\n",
      "Average RMSE over all splits for Fallback algo : 0.93\n",
      "Average MAE over all splits: 0.74\n",
      "Average nDCG over all splits: 0.98\n"
     ]
    }
   ],
   "source": [
    "splits = crossfold.partition_users(ratings_df, 3, crossfold.SampleFrac(1.0/3))\n",
    "media_rmse_3 = 0\n",
    "media_mae_3 = 0\n",
    "ndcg_sum3 = 0\n",
    "for i, (train, test) in enumerate(splits):\n",
    "        #copy our splits to not modify the data\n",
    "        train_ratings3 = train.copy()\n",
    "        test_ratings3 = test.copy()\n",
    "\n",
    "        #fit the popular model\n",
    "        fallback_recommender.fit(train_ratings3)\n",
    "\n",
    "        users3 = test_ratings3['user'].unique()\n",
    "        recommendations3 = batch.predict(fallback_recommender, test_ratings3).sort_values(by='prediction', ascending=False)\n",
    "        min_score3 = recommendations3['prediction'].min()\n",
    "        max_score3 = recommendations3['prediction'].max()\n",
    "        #we had to scale the recommendation score to match with the grading criteria between 0 and 5. \n",
    "        #for examples the scores generated were between 108 and 132.\n",
    "        recommendations3['prediction'] = 5 * (recommendations3['prediction'] - min_score3) / (max_score3 - min_score3)\n",
    "        test_rmse3 = rmse(recommendations3['rating'], recommendations3['prediction'])\n",
    "        test_mae3 = mean_absolute_error(recommendations3['rating'], recommendations3['prediction'])\n",
    "        ndcg_value = ndcg_score([recommendations3.groupby('user').head(10)['rating'].apply(lambda x: 1 if x>2.5 else 0)], [recommendations3.groupby('user').head(10)['prediction'].apply(lambda x: 1 if x>2.5 else 0)])\n",
    "        ndcg_sum3+=ndcg_value\n",
    "        media_rmse_3 = media_rmse_3 +test_rmse3\n",
    "        media_mae_3 = media_mae_3 + test_mae3\n",
    "        print(f'Split {i + 1} RMSE: {test_rmse3:.2f}, MAE: {test_mae3:.2f}, nDCG: {ndcg_value:.2f}')\n",
    "    \n",
    "\n",
    "\n",
    "average_rmse_3 = media_rmse_3 / 3\n",
    "print(f'Average RMSE over all splits for Fallback algo : {average_rmse_3:.2f}')\n",
    "average_mae_3 = media_mae_3 / 3  # Assuming to have 3 splits\n",
    "print(f'Average MAE over all splits: {average_mae_3:.2f}')\n",
    "average_ndcg_3 = ndcg_sum3 / 3\n",
    "print(f'Average nDCG over all splits: {average_ndcg_3:.2f}')\n"
   ]
  },
  {
   "attachments": {},
   "cell_type": "markdown",
   "metadata": {},
   "source": [
    "Now let's plot the results of the two algorithms and try to compare them based on RMSE and MAE. Why do we use RMSE and MAE?\n",
    "\n",
    "-Lenskit prvoides both of them, easy to implemenet and understand\n",
    "\n",
    "-both evaluation methods are sensible to data sampling, what we also did with our large dataset\n",
    "\n",
    "-MAE gives as clear interpretation of its score (example MAE = 0.7 means that on average our predictions are off for 0.7 rating score)\n",
    "\n",
    "-RMSE is more sensible to outliers so it will help to better recommendations, not having ones which are completely off\n",
    "\n",
    "-nDCG to compare how good our recommendations are, takes rank into account.\n"
   ]
  },
  {
   "cell_type": "code",
   "execution_count": 37,
   "metadata": {},
   "outputs": [
    {
     "data": {
      "image/png": "[encoded data removed]",
      "text/plain": [
       "<Figure size 1200x600 with 1 Axes>"
      ]
     },
     "metadata": {},
     "output_type": "display_data"
    }
   ],
   "source": [
    "\n",
    "algorithms = ['Popularity Algorithm', 'Bias Algorithm', 'Fallback Algorithm']\n",
    "rmse_values = [all_values[0][0], average_rmse_2, average_rmse_3]\n",
    "mae_values = [all_values[0][1], average_mae_2, average_mae_3]\n",
    "ndcg_values = [all_values[0][2], average_ndcg_2, average_ndcg_3]\n",
    "\n",
    "\n",
    "bar_width = 0.25\n",
    "\n",
    "\n",
    "r1 = np.arange(len(algorithms))\n",
    "r2 = [x + bar_width for x in r1]\n",
    "r3 = [x + bar_width for x in r2]\n",
    "plt.figure(figsize=(12, 6))\n",
    "plt.bar(r1, rmse_values, width=bar_width, color='b', label='RMSE')\n",
    "plt.bar(r2, mae_values, width=bar_width, color='r', label='MAE')\n",
    "plt.bar(r3, ndcg_values, width=bar_width, color='g', label='nDCG')\n",
    "\n",
    "plt.xlabel('Algorithm', fontweight='bold')\n",
    "plt.xticks([r + bar_width/2 for r in range(len(algorithms))], algorithms)\n",
    "plt.ylabel('Value')\n",
    "plt.title('Comparison of RMSE, MAE, nDCG for Different Algorithms')\n",
    "plt.legend()\n",
    "\n",
    "plt.show()\n"
   ]
  },
  {
   "cell_type": "markdown",
   "metadata": {},
   "source": [
    "From these results we can conclude that Bias algorithm outperforms Popularity on both RMSE and MAE evaluation. This can be due to several reasons but I think main ones are that Bias is more complex algorithm than Popularity and the most important reason is that Bias-based algorithms take into account individual user preferences and item biases, allowing for personalized recommendations. These algorithms capture nuances in user behavior, leading to more accurate and tailored suggestions for users. Fallback algorithm performs the same as Bias because it probably doesn't need to fallback to use popularity. Bias and Fallback outperform Popularity in each of RMSE,MAE,nDCG."
   ]
  },
  {
   "cell_type": "markdown",
   "metadata": {},
   "source": [
    "From now on, we will compare Bias algorithm as the best baseline against other algorithms such as collaborative filtering and content based recommenders.Fallback is same as bias but more complex so we just rather pick Bias for comparison with other models. Bellow are top 10 recommendation made by Fallback recommender."
   ]
  },
  {
   "cell_type": "code",
   "execution_count": 33,
   "metadata": {},
   "outputs": [
    {
     "name": "stdout",
     "output_type": "stream",
     "text": [
      "         user    item  rating   timestamp  prediction\n",
      "5840   129440     296     5.0  1463341622    5.000000\n",
      "50766  129440    1089     5.0  1463341674    4.905188\n",
      "26945  129440     589     5.0  1463363392    4.888400\n",
      "62998  129440     923     5.0  1522096214    4.841311\n",
      "14677  129440    1270     5.0  1463342235    4.839200\n",
      "40861  129440    1090     5.0  1463363661    4.810148\n",
      "58562  129440     356     5.0  1463341613    4.711127\n",
      "27227  129440    6377     5.0  1463342304    4.670970\n",
      "2736   129440    3499     5.0  1463364005    4.565103\n",
      "44863  129440  122882     5.0  1463341628    4.508820\n"
     ]
    }
   ],
   "source": [
    "recommendations_all = batch.predict(bias_recommender, ratings_df).sort_values(by='prediction', ascending=False).groupby('user').head(10)\n",
    "min_score_all = recommendations_all['prediction'].min()\n",
    "max_score_all = recommendations_all['prediction'].max()\n",
    "recommendations_all['prediction'] = 5 * (recommendations_all['prediction'] - min_score_all) / (max_score_all - min_score_all)\n",
    "print(recommendations_all.head(10))"
   ]
  }
 ],
 "metadata": {
  "kernelspec": {
   "display_name": "recommender",
   "language": "python",
   "name": "python3"
  },
  "language_info": {
   "codemirror_mode": {
    "name": "ipython",
    "version": 3
   },
   "file_extension": ".py",
   "mimetype": "text/x-python",
   "name": "python",
   "nbconvert_exporter": "python",
   "pygments_lexer": "ipython3",
   "version": "3.10.11"
  },
  "orig_nbformat": 4
 },
 "nbformat": 4,
 "nbformat_minor": 2
}

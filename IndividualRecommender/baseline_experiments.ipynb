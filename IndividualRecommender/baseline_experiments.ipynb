{
 "cells": [
  {
   "attachments": {},
   "cell_type": "markdown",
   "metadata": {},
   "source": [
    "In this notebook we are going to implement some baseline algorithms for oferring recommendations to individual users.\n",
    "\n",
    "As mentioned in the data document, we are going to start by implementing \"basic.Popular\" from the Lenskit library.\n",
    "\n",
    "The mentioned algorithm will recommend the items, movie in this case, ordered by popularity. \n",
    "\n",
    "First, we will import the required libraries for Lenskit"
   ]
  },
  {
   "cell_type": "code",
   "execution_count": 281,
   "metadata": {},
   "outputs": [],
   "source": [
    "import numpy as np\n",
    "from lenskit import batch, crossfold\n",
    "from lenskit.algorithms import Recommender, bias, basic, item_knn\n",
    "from lenskit.metrics.predict import rmse, user_metric\n",
    "from lenskit.algorithms import basic\n",
    "from sklearn.metrics import mean_absolute_error\n",
    "\n"
   ]
  },
  {
   "attachments": {},
   "cell_type": "markdown",
   "metadata": {},
   "source": [
    "Now we will upload the pre-processed data from the previous notebook we created. "
   ]
  },
  {
   "cell_type": "code",
   "execution_count": 282,
   "metadata": {},
   "outputs": [
    {
     "data": {
      "text/html": [
       "<div>\n",
       "<style scoped>\n",
       "    .dataframe tbody tr th:only-of-type {\n",
       "        vertical-align: middle;\n",
       "    }\n",
       "\n",
       "    .dataframe tbody tr th {\n",
       "        vertical-align: top;\n",
       "    }\n",
       "\n",
       "    .dataframe thead th {\n",
       "        text-align: right;\n",
       "    }\n",
       "</style>\n",
       "<table border=\"1\" class=\"dataframe\">\n",
       "  <thead>\n",
       "    <tr style=\"text-align: right;\">\n",
       "      <th></th>\n",
       "      <th>user</th>\n",
       "      <th>item</th>\n",
       "      <th>rating</th>\n",
       "      <th>timestamp</th>\n",
       "    </tr>\n",
       "  </thead>\n",
       "  <tbody>\n",
       "    <tr>\n",
       "      <th>0</th>\n",
       "      <td>17783</td>\n",
       "      <td>5954</td>\n",
       "      <td>5.0</td>\n",
       "      <td>1288572640</td>\n",
       "    </tr>\n",
       "    <tr>\n",
       "      <th>1</th>\n",
       "      <td>147353</td>\n",
       "      <td>2805</td>\n",
       "      <td>2.0</td>\n",
       "      <td>979368264</td>\n",
       "    </tr>\n",
       "    <tr>\n",
       "      <th>2</th>\n",
       "      <td>32778</td>\n",
       "      <td>1982</td>\n",
       "      <td>4.0</td>\n",
       "      <td>1559214270</td>\n",
       "    </tr>\n",
       "    <tr>\n",
       "      <th>3</th>\n",
       "      <td>17160</td>\n",
       "      <td>1225</td>\n",
       "      <td>4.5</td>\n",
       "      <td>1151466878</td>\n",
       "    </tr>\n",
       "    <tr>\n",
       "      <th>4</th>\n",
       "      <td>58005</td>\n",
       "      <td>6537</td>\n",
       "      <td>3.0</td>\n",
       "      <td>1112739432</td>\n",
       "    </tr>\n",
       "    <tr>\n",
       "      <th>5</th>\n",
       "      <td>133040</td>\n",
       "      <td>736</td>\n",
       "      <td>2.0</td>\n",
       "      <td>1076959711</td>\n",
       "    </tr>\n",
       "    <tr>\n",
       "      <th>6</th>\n",
       "      <td>73670</td>\n",
       "      <td>4975</td>\n",
       "      <td>2.0</td>\n",
       "      <td>1415292692</td>\n",
       "    </tr>\n",
       "    <tr>\n",
       "      <th>7</th>\n",
       "      <td>118041</td>\n",
       "      <td>1248</td>\n",
       "      <td>4.5</td>\n",
       "      <td>1522631138</td>\n",
       "    </tr>\n",
       "    <tr>\n",
       "      <th>8</th>\n",
       "      <td>73268</td>\n",
       "      <td>122904</td>\n",
       "      <td>0.5</td>\n",
       "      <td>1475355740</td>\n",
       "    </tr>\n",
       "    <tr>\n",
       "      <th>9</th>\n",
       "      <td>133495</td>\n",
       "      <td>1388</td>\n",
       "      <td>1.0</td>\n",
       "      <td>991281570</td>\n",
       "    </tr>\n",
       "  </tbody>\n",
       "</table>\n",
       "</div>"
      ],
      "text/plain": [
       "     user    item  rating   timestamp\n",
       "0   17783    5954     5.0  1288572640\n",
       "1  147353    2805     2.0   979368264\n",
       "2   32778    1982     4.0  1559214270\n",
       "3   17160    1225     4.5  1151466878\n",
       "4   58005    6537     3.0  1112739432\n",
       "5  133040     736     2.0  1076959711\n",
       "6   73670    4975     2.0  1415292692\n",
       "7  118041    1248     4.5  1522631138\n",
       "8   73268  122904     0.5  1475355740\n",
       "9  133495    1388     1.0   991281570"
      ]
     },
     "metadata": {},
     "output_type": "display_data"
    }
   ],
   "source": [
    "import pandas as pd\n",
    "preprocessed_dataset_folder = \"../Data/PreprocessedDataset\"\n",
    "ratings_df = pd.read_csv(preprocessed_dataset_folder+\"/ratings.csv\")\n",
    "display(ratings_df.head(10))\n"
   ]
  },
  {
   "attachments": {},
   "cell_type": "markdown",
   "metadata": {},
   "source": [
    "What are the pros and cons of the first baseline, on our MovieLens dataset?\n",
    "\n",
    "-it is a basic algorithm, easy to scale for a big dataset like ours, even if we use small samples \n",
    "\n",
    "-will be our first comparison point to more advanced soltuions \n",
    "\n",
    "-it s a non personalized algorithm so unfortunetally will not take into consideration users prefferences, but will be \n",
    "\n",
    "interesing to compare with peronalized baselines. "
   ]
  },
  {
   "attachments": {},
   "cell_type": "markdown",
   "metadata": {},
   "source": []
  },
  {
   "cell_type": "code",
   "execution_count": 283,
   "metadata": {},
   "outputs": [],
   "source": [
    "popular_recommender = Recommender.adapt(basic.Popular()) "
   ]
  },
  {
   "attachments": {},
   "cell_type": "markdown",
   "metadata": {},
   "source": [
    "For splitting our data into test and train sets we will use the K-fold cross validation. \n",
    "\n",
    "This has the advantage of evaluating the algorithm on different subsets of the data each time so we can have a better conclusion how it performs on different unseen data sets.\n",
    "\n",
    " Also because of this we are less prone to overfitting, tho this is a simple algorithm and this should not be a problem for this specific case. "
   ]
  },
  {
   "attachments": {},
   "cell_type": "markdown",
   "metadata": {},
   "source": [
    "We experimented using different values for the number of folds and we concluded that using 3 folds will obtain the best accuracy. "
   ]
  },
  {
   "cell_type": "code",
   "execution_count": 284,
   "metadata": {},
   "outputs": [
    {
     "data": {
      "image/png": "[encoded data removed]",
      "text/plain": [
       "<Figure size 640x480 with 1 Axes>"
      ]
     },
     "metadata": {},
     "output_type": "display_data"
    }
   ],
   "source": [
    "import matplotlib.pyplot as plt\n",
    "\n",
    "folds = [3, 5, 7]\n",
    "rmse_values = [112.84, 117.02, 118.61]\n",
    "\n",
    "plt.bar(folds, rmse_values, color='blue')\n",
    "\n",
    "\n",
    "plt.title('Average RMSE for Different Number of Folds')\n",
    "plt.xlabel('Number of Folds')\n",
    "plt.ylabel('Average RMSE')\n",
    "\n",
    "plt.show()"
   ]
  },
  {
   "cell_type": "code",
   "execution_count": 285,
   "metadata": {},
   "outputs": [],
   "source": [
    "splits = crossfold.partition_users(ratings_df, 3, crossfold.SampleFrac(0.2))\n",
    "media_rmse = 0\n",
    "media_mae = 0"
   ]
  },
  {
   "attachments": {},
   "cell_type": "markdown",
   "metadata": {},
   "source": [
    "Now we will train our algorithm on the k-1 folds and thest on the k last fold. \n",
    "\n",
    "We have to copy the original splits in order to not mpdify the data. Then we will generate the recommendations for the users from the test sets. \n",
    "\n",
    "We will recommend first 10 movies based on popularity (for Basic.Popular algorithm)."
   ]
  },
  {
   "cell_type": "code",
   "execution_count": 286,
   "metadata": {},
   "outputs": [
    {
     "name": "stdout",
     "output_type": "stream",
     "text": [
      "Split 1 RMSE: 3.10, MAE: 2.84\n",
      "Split 2 RMSE: 2.40, MAE: 2.15\n",
      "Split 3 RMSE: 2.28, MAE: 1.91\n"
     ]
    }
   ],
   "source": [
    "\n",
    "\n",
    "\n",
    "for i, (train, test) in enumerate(splits):\n",
    "        #copy our splits to not modify the data\n",
    "        train_ratings = train.copy()\n",
    "        test_ratings = test.copy()\n",
    "\n",
    "       #fit the popular model\n",
    "        popular_recommender.fit(train_ratings)\n",
    "        \n",
    "        users = test_ratings['user'].unique()\n",
    "        recommendations = batch.recommend(popular_recommender, users, 10)\n",
    "        min_score = recommendations['score'].min()\n",
    "        max_score = recommendations['score'].max()\n",
    "\n",
    "        recommendations['score'] = 5 * (recommendations['score'] - min_score) / (max_score - min_score)\n",
    "       \n",
    "        #we evsaluate the recoomendations ccomparing the ratings with our predictions\n",
    "        test_pred = pd.merge(test_ratings[['user', 'item', 'rating']], recommendations, on=['user', 'item'])\n",
    "        test_rmse = rmse(test_pred['rating'], test_pred['score'])\n",
    "        test_mae = mean_absolute_error(test_pred['rating'], test_pred['score'])\n",
    "    \n",
    "        media_rmse = media_rmse +test_rmse\n",
    "        media_mae = media_mae + test_mae\n",
    "        print(f'Split {i + 1} RMSE: {test_rmse:.2f}, MAE: {test_mae:.2f}')\n",
    "\n",
    "        "
   ]
  },
  {
   "attachments": {},
   "cell_type": "markdown",
   "metadata": {},
   "source": [
    "In the end, after we calculated the RMSE for each one of the 5 folds we compute the average which we will use for further comparison. "
   ]
  },
  {
   "cell_type": "code",
   "execution_count": 287,
   "metadata": {},
   "outputs": [
    {
     "name": "stdout",
     "output_type": "stream",
     "text": [
      "Average RMSE over all splits for Popularity algo: 2.59\n",
      "Average MAE over all splits: 2.30\n"
     ]
    }
   ],
   "source": [
    "average_rmse = media_rmse / 3\n",
    "print(f'Average RMSE over all splits for Popularity algo: {average_rmse:.2f}')\n",
    "average_mae = media_mae / 3  \n",
    "print(f'Average MAE over all splits: {average_mae:.2f}')"
   ]
  },
  {
   "attachments": {},
   "cell_type": "markdown",
   "metadata": {},
   "source": [
    "Now we will implement another baseline in order to compare with the popularity one, which did not performed that good.\n",
    "\n",
    " The results will be compared and disussed later. The new baseline we will implement is BiasOnly model.\n",
    " \n",
    "The pros and cons for this algorithm and why we chose it are:\n",
    "\n",
    "-as being simple algorithm, is again suitable for large and sparse datasets as our \n",
    "\n",
    "-in comparison with the popularity one this is personalized taking into account item and user biases\n",
    "\n"
   ]
  },
  {
   "cell_type": "code",
   "execution_count": 288,
   "metadata": {},
   "outputs": [],
   "source": [
    "bias_recommender = Recommender.adapt(bias.Bias())\n",
    "splits = crossfold.partition_users(ratings_df, 3, crossfold.SampleFrac(0.2))\n",
    "media_rmse_2 = 0\n",
    "media_mae_2 = 0"
   ]
  },
  {
   "attachments": {},
   "cell_type": "markdown",
   "metadata": {},
   "source": [
    "We will use the same k fold crss validation explained above with only 3 folds as provided the best results. We also need to keep the same evaluation structure for the shake of comparison. The code will remain the same, as exaplained above. "
   ]
  },
  {
   "cell_type": "code",
   "execution_count": 289,
   "metadata": {},
   "outputs": [
    {
     "name": "stdout",
     "output_type": "stream",
     "text": [
      "Split 1 RMSE: 2.13, MAE: 1.91\n",
      "Split 2 RMSE: 2.11, MAE: 1.91\n",
      "Split 3 RMSE: 1.79, MAE: 1.91\n",
      "Average RMSE over all splits for Bias algo : 2.01\n",
      "Average MAE over all splits: 2.30\n"
     ]
    }
   ],
   "source": [
    "\n",
    "\n",
    "for i, (train, test) in enumerate(splits):\n",
    "        #copy our splits to not modify the data\n",
    "        train_ratings = train.copy()\n",
    "        test_ratings = test.copy()\n",
    "\n",
    "       #fit the popular model\n",
    "        bias_recommender.fit(train_ratings)\n",
    "        \n",
    "        users = test_ratings['user'].unique()\n",
    "        recommendations = batch.recommend(popular_recommender, users, 10)\n",
    "        min_score = recommendations['score'].min()\n",
    "        max_score = recommendations['score'].max()\n",
    "\n",
    "\n",
    "        recommendations['score'] = 5 * (recommendations['score'] - min_score) / (max_score - min_score)\n",
    "\n",
    "        #we evsaluate the recoomendations ccomparing the ratings with our predictions\n",
    "        test_pred = pd.merge(test_ratings[['user', 'item', 'rating']], recommendations, on=['user', 'item'])\n",
    "        test_rmse = rmse(test_pred['rating'], test_pred['score'])\n",
    "\n",
    "        media_rmse_2 = media_rmse_2 +test_rmse\n",
    "        media_mae_2 = media_mae_2 + test_mae\n",
    "        print(f'Split {i + 1} RMSE: {test_rmse:.2f}, MAE: {test_mae:.2f}')\n",
    "        \n",
    "average_rmse_2 = media_rmse_2 / 3\n",
    "print(f'Average RMSE over all splits for Bias algo : {average_rmse_2:.2f}')\n",
    "average_mae_2 = media_mae_2 / 3  # Assuming you have 3 splits\n",
    "print(f'Average MAE over all splits: {average_mae:.2f}')"
   ]
  },
  {
   "attachments": {},
   "cell_type": "markdown",
   "metadata": {},
   "source": [
    "Now let's combine the two created baselines and use the fallback algorithm which will take as parameters both the Popularity and Bias algorithms.\n",
    "\n",
    " The ideea here is that we will use our Bias algorithm first and if it fails to generate recommendations, the fallback method will then use Popularity algorithm.\n",
    " \n",
    "  In such case recommendatiobs might be combined so we will expect better diversity and at the end, basicslly better results. We will see if this hypothesis holds.\n",
    "\n",
    "The fallback method will have increased complexity but this is fine as we only work with a small sample od the data.\n",
    "\n",
    "For the shake of comparison, the k-fold cross validation will stay the same as disucssed above. \n",
    "\n",
    "One advantage of adding popularity as a fallback to bias might be \"the cold start problem\". On the other hand, we might be more prone to overfitting so it can in some situations obtain a bigger error. "
   ]
  },
  {
   "attachments": {},
   "cell_type": "markdown",
   "metadata": {},
   "source": []
  },
  {
   "cell_type": "code",
   "execution_count": 290,
   "metadata": {},
   "outputs": [],
   "source": [
    "#our previous baselines we will use for the fallback \n",
    "algorithms = [bias_recommender, popular_recommender] \n",
    "fallback_recommender = basic.Fallback(algorithms)\n",
    "\n",
    "splits = crossfold.partition_users(ratings_df, 3, crossfold.SampleFrac(0.2))\n",
    "media_rmse_3 = 0\n",
    "media_mae_3 = 0\n"
   ]
  },
  {
   "cell_type": "code",
   "execution_count": 291,
   "metadata": {},
   "outputs": [
    {
     "name": "stdout",
     "output_type": "stream",
     "text": [
      "Split 1 RMSE: 3.07, MAE: 1.91\n",
      "Split 2 RMSE: 2.56, MAE: 1.91\n",
      "Split 3 RMSE: 2.66, MAE: 1.91\n",
      "Average RMSE over all splits for Fallback algo : 2.76\n",
      "Average MAE over all splits: 2.30\n"
     ]
    }
   ],
   "source": [
    "for i, (train, test) in enumerate(splits):\n",
    "        #copy our splits to not modify the data\n",
    "        train_ratings = train.copy()\n",
    "        test_ratings = test.copy()\n",
    "\n",
    "        #fit the popular model\n",
    "        fallback_recommender.fit(train_ratings)\n",
    "\n",
    "        users = test_ratings['user'].unique()\n",
    "        recommendations = batch.recommend(popular_recommender, users, 10)\n",
    "        min_score = recommendations['score'].min()\n",
    "        max_score = recommendations['score'].max()\n",
    "\n",
    "        #we had to scale the recommendation score to match with the grading criteria between 1 and 5. \n",
    "        #for examples the scores generated were between 108 and 132.\n",
    "        recommendations['score'] = 5 * (recommendations['score'] - min_score) / (max_score - min_score)\n",
    "\n",
    "        #we evsaluate the recoomendations ccomparing the ratings with our predictions\n",
    "        test_pred = pd.merge(test_ratings[['user', 'item', 'rating']], recommendations, on=['user', 'item'])\n",
    "        test_rmse = rmse(test_pred['rating'], test_pred['score'])\n",
    "\n",
    "        media_rmse_3 = media_rmse_3 +test_rmse\n",
    "        media_mae_3 = media_mae_3 + test_mae\n",
    "        print(f'Split {i + 1} RMSE: {test_rmse:.2f}, MAE: {test_mae:.2f}')\n",
    "    \n",
    "\n",
    "\n",
    "average_rmse_3 = media_rmse_3 / 3\n",
    "print(f'Average RMSE over all splits for Fallback algo : {average_rmse_3:.2f}')\n",
    "average_mae_3 = media_mae_3 / 3  # Assuming you have 3 splits\n",
    "print(f'Average MAE over all splits: {average_mae:.2f}')\n"
   ]
  },
  {
   "attachments": {},
   "cell_type": "markdown",
   "metadata": {},
   "source": [
    "Now let's plot the results of the two algorithms and try to compare them based on RMSE and MAE. Why do we use RMSE and MAE?\n",
    "\n",
    "-Lenskit prvoides both of them, easy to implmenet and understand\n",
    "\n",
    "-both evaluation methods are sensible to data sampleing, what we also did with our large dataset\n",
    "\n",
    "-RMSE is more sensible to outliers so is not that good for very sparse samples. We show our data is not that sparse and this should not represent a big problem \n"
   ]
  },
  {
   "cell_type": "code",
   "execution_count": 292,
   "metadata": {},
   "outputs": [
    {
     "data": {
      "image/png": "[encoded data removed]",
      "text/plain": [
       "<Figure size 1200x600 with 1 Axes>"
      ]
     },
     "metadata": {},
     "output_type": "display_data"
    }
   ],
   "source": [
    "\n",
    "algorithms = ['Popularity Algorithm', 'Bias Algorithm', 'Fallback Algorithm']\n",
    "rmse_values = [average_rmse, average_rmse_2, average_rmse_3]\n",
    "mae_values = [average_mae, average_mae_2, average_mae_3]\n",
    "\n",
    "\n",
    "bar_width = 0.35\n",
    "\n",
    "\n",
    "r1 = np.arange(len(algorithms))\n",
    "r2 = [x + bar_width for x in r1]\n",
    "plt.figure(figsize=(12, 6))\n",
    "plt.bar(r1, rmse_values, width=bar_width, color='b', label='RMSE')\n",
    "plt.bar(r2, mae_values, width=bar_width, color='r', label='MAE')\n",
    "\n",
    "plt.xlabel('Algorithm', fontweight='bold')\n",
    "plt.xticks([r + bar_width/2 for r in range(len(algorithms))], algorithms)\n",
    "plt.ylabel('Error')\n",
    "plt.title('Comparison of RMSE and MAE for Different Algorithms')\n",
    "plt.legend()\n",
    "\n",
    "plt.show()\n"
   ]
  }
 ],
 "metadata": {
  "kernelspec": {
   "display_name": "recommender",
   "language": "python",
   "name": "python3"
  },
  "language_info": {
   "codemirror_mode": {
    "name": "ipython",
    "version": 3
   },
   "file_extension": ".py",
   "mimetype": "text/x-python",
   "name": "python",
   "nbconvert_exporter": "python",
   "pygments_lexer": "ipython3",
   "version": "3.10.12"
  },
  "orig_nbformat": 4
 },
 "nbformat": 4,
 "nbformat_minor": 2
}

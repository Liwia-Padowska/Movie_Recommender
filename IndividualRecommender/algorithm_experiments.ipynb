{
 "cells": [
  {
   "cell_type": "markdown",
   "metadata": {},
   "source": [
    "In this code we will introduce 3 individual recommenders and evaluate them.Implemented recommenders are: content based rs, user based cf, item based cf. After implementing them we will compare these three individual recommenders with out baselines. As the main baseline we will compare fallback because we already saw that it performs better than other two.\n"
   ]
  },
  {
   "cell_type": "markdown",
   "metadata": {},
   "source": [
    "Firstly we import our preprocessed dataset. Bellow you can see how ratinggs_df looks like."
   ]
  },
  {
   "cell_type": "code",
   "execution_count": 30,
   "metadata": {
    "collapsed": true,
    "ExecuteTime": {
     "end_time": "2023-10-12T10:00:45.367855800Z",
     "start_time": "2023-10-12T10:00:45.061146300Z"
    }
   },
   "outputs": [
    {
     "data": {
      "text/plain": "     user    item  rating   timestamp\n0   17783    5954     5.0  1288572640\n1  147353    2805     2.0   979368264\n2   32778    1982     4.0  1559214270\n3   17160    1225     4.5  1151466878\n4   58005    6537     3.0  1112739432\n5  133040     736     2.0  1076959711\n6   73670    4975     2.0  1415292692\n7  118041    1248     4.5  1522631138\n8   73268  122904     0.5  1475355740\n9  133495    1388     1.0   991281570",
      "text/html": "<div>\n<style scoped>\n    .dataframe tbody tr th:only-of-type {\n        vertical-align: middle;\n    }\n\n    .dataframe tbody tr th {\n        vertical-align: top;\n    }\n\n    .dataframe thead th {\n        text-align: right;\n    }\n</style>\n<table border=\"1\" class=\"dataframe\">\n  <thead>\n    <tr style=\"text-align: right;\">\n      <th></th>\n      <th>user</th>\n      <th>item</th>\n      <th>rating</th>\n      <th>timestamp</th>\n    </tr>\n  </thead>\n  <tbody>\n    <tr>\n      <th>0</th>\n      <td>17783</td>\n      <td>5954</td>\n      <td>5.0</td>\n      <td>1288572640</td>\n    </tr>\n    <tr>\n      <th>1</th>\n      <td>147353</td>\n      <td>2805</td>\n      <td>2.0</td>\n      <td>979368264</td>\n    </tr>\n    <tr>\n      <th>2</th>\n      <td>32778</td>\n      <td>1982</td>\n      <td>4.0</td>\n      <td>1559214270</td>\n    </tr>\n    <tr>\n      <th>3</th>\n      <td>17160</td>\n      <td>1225</td>\n      <td>4.5</td>\n      <td>1151466878</td>\n    </tr>\n    <tr>\n      <th>4</th>\n      <td>58005</td>\n      <td>6537</td>\n      <td>3.0</td>\n      <td>1112739432</td>\n    </tr>\n    <tr>\n      <th>5</th>\n      <td>133040</td>\n      <td>736</td>\n      <td>2.0</td>\n      <td>1076959711</td>\n    </tr>\n    <tr>\n      <th>6</th>\n      <td>73670</td>\n      <td>4975</td>\n      <td>2.0</td>\n      <td>1415292692</td>\n    </tr>\n    <tr>\n      <th>7</th>\n      <td>118041</td>\n      <td>1248</td>\n      <td>4.5</td>\n      <td>1522631138</td>\n    </tr>\n    <tr>\n      <th>8</th>\n      <td>73268</td>\n      <td>122904</td>\n      <td>0.5</td>\n      <td>1475355740</td>\n    </tr>\n    <tr>\n      <th>9</th>\n      <td>133495</td>\n      <td>1388</td>\n      <td>1.0</td>\n      <td>991281570</td>\n    </tr>\n  </tbody>\n</table>\n</div>"
     },
     "metadata": {},
     "output_type": "display_data"
    }
   ],
   "source": [
    "import pandas as pd\n",
    "preprocessed_dataset_folder = \"../Data/PreprocessedDataset\"\n",
    "ratings_df = pd.read_csv(preprocessed_dataset_folder+\"/ratings.csv\")\n",
    "movies_df = pd.read_csv(preprocessed_dataset_folder+\"/movies.csv\")\n",
    "display(ratings_df.head(10))"
   ]
  },
  {
   "cell_type": "markdown",
   "metadata": {},
   "source": [
    "Bellow you can see how our movies dataframe looks like."
   ]
  },
  {
   "cell_type": "code",
   "execution_count": 31,
   "metadata": {
    "collapsed": false,
    "ExecuteTime": {
     "end_time": "2023-10-12T10:00:45.367855800Z",
     "start_time": "2023-10-12T10:00:45.137910400Z"
    }
   },
   "outputs": [
    {
     "data": {
      "text/plain": "   item                      title_original  \\\n0     1                    Toy Story (1995)   \n1     2                      Jumanji (1995)   \n2     3             Grumpier Old Men (1995)   \n3     5  Father of the Bride Part II (1995)   \n4     6                         Heat (1995)   \n\n                                        genres  year  \\\n0  Adventure|Animation|Children|Comedy|Fantasy  1995   \n1                   Adventure|Children|Fantasy  1995   \n2                               Comedy|Romance  1995   \n3                                       Comedy  1995   \n4                        Action|Crime|Thriller  1995   \n\n                         title  \\\n0                    toy story   \n1                      jumanji   \n2             grumpier old men   \n3  father of the bride part ii   \n4                         heat   \n\n                                                cast       director    origin  \\\n0                      tim allen, tom hanks (voices)  john lasseter  american   \n1  robin williams, bonnie hunt, kirsten dunst, br...   joe johnston  american   \n2  jack lemmon, walter matthau, ann-margret, soph...  howard deutch  american   \n3  steve martin, diane keaton, martin short, kimb...  charles shyer  american   \n4  al pacino, robert de niro, val kilmer, ashley ...   michael mann  american   \n\n                                                plot  \n0  In a world where toys are living things who pr...  \n1  In 1869, near Brantford, New Hampshire, two br...  \n2  The feud between Max (Walter Matthau) and John...  \n3  The film begins five years after the events of...  \n4  Neil McCauley, a career criminal, hires Waingr...  ",
      "text/html": "<div>\n<style scoped>\n    .dataframe tbody tr th:only-of-type {\n        vertical-align: middle;\n    }\n\n    .dataframe tbody tr th {\n        vertical-align: top;\n    }\n\n    .dataframe thead th {\n        text-align: right;\n    }\n</style>\n<table border=\"1\" class=\"dataframe\">\n  <thead>\n    <tr style=\"text-align: right;\">\n      <th></th>\n      <th>item</th>\n      <th>title_original</th>\n      <th>genres</th>\n      <th>year</th>\n      <th>title</th>\n      <th>cast</th>\n      <th>director</th>\n      <th>origin</th>\n      <th>plot</th>\n    </tr>\n  </thead>\n  <tbody>\n    <tr>\n      <th>0</th>\n      <td>1</td>\n      <td>Toy Story (1995)</td>\n      <td>Adventure|Animation|Children|Comedy|Fantasy</td>\n      <td>1995</td>\n      <td>toy story</td>\n      <td>tim allen, tom hanks (voices)</td>\n      <td>john lasseter</td>\n      <td>american</td>\n      <td>In a world where toys are living things who pr...</td>\n    </tr>\n    <tr>\n      <th>1</th>\n      <td>2</td>\n      <td>Jumanji (1995)</td>\n      <td>Adventure|Children|Fantasy</td>\n      <td>1995</td>\n      <td>jumanji</td>\n      <td>robin williams, bonnie hunt, kirsten dunst, br...</td>\n      <td>joe johnston</td>\n      <td>american</td>\n      <td>In 1869, near Brantford, New Hampshire, two br...</td>\n    </tr>\n    <tr>\n      <th>2</th>\n      <td>3</td>\n      <td>Grumpier Old Men (1995)</td>\n      <td>Comedy|Romance</td>\n      <td>1995</td>\n      <td>grumpier old men</td>\n      <td>jack lemmon, walter matthau, ann-margret, soph...</td>\n      <td>howard deutch</td>\n      <td>american</td>\n      <td>The feud between Max (Walter Matthau) and John...</td>\n    </tr>\n    <tr>\n      <th>3</th>\n      <td>5</td>\n      <td>Father of the Bride Part II (1995)</td>\n      <td>Comedy</td>\n      <td>1995</td>\n      <td>father of the bride part ii</td>\n      <td>steve martin, diane keaton, martin short, kimb...</td>\n      <td>charles shyer</td>\n      <td>american</td>\n      <td>The film begins five years after the events of...</td>\n    </tr>\n    <tr>\n      <th>4</th>\n      <td>6</td>\n      <td>Heat (1995)</td>\n      <td>Action|Crime|Thriller</td>\n      <td>1995</td>\n      <td>heat</td>\n      <td>al pacino, robert de niro, val kilmer, ashley ...</td>\n      <td>michael mann</td>\n      <td>american</td>\n      <td>Neil McCauley, a career criminal, hires Waingr...</td>\n    </tr>\n  </tbody>\n</table>\n</div>"
     },
     "metadata": {},
     "output_type": "display_data"
    }
   ],
   "source": [
    "display(movies_df.head(5))"
   ]
  },
  {
   "cell_type": "markdown",
   "metadata": {
    "collapsed": false
   },
   "source": [
    "# Movie dataframe preprocessing for content based/matrix factorisation"
   ]
  },
  {
   "cell_type": "markdown",
   "metadata": {},
   "source": [
    "For content based recommendations we decided to use plots to which title and genres of movies are appended. As preprocessing before applying k-nearest neighbours algorithm we will firstly tokenize plot, remove stopwords (just english ones) and then we will put all to lower case."
   ]
  },
  {
   "cell_type": "code",
   "execution_count": 32,
   "metadata": {
    "ExecuteTime": {
     "end_time": "2023-10-12T10:00:48.888831100Z",
     "start_time": "2023-10-12T10:00:45.165398800Z"
    }
   },
   "outputs": [],
   "source": [
    "import pandas as pd\n",
    "from sklearn.model_selection import train_test_split\n",
    "from sklearn.feature_extraction.text import TfidfVectorizer\n",
    "from sklearn.neighbors import KNeighborsRegressor\n",
    "from sklearn.feature_extraction.text import TfidfVectorizer\n",
    "from nltk.corpus import stopwords\n",
    "from nltk.tokenize import word_tokenize\n",
    "import numpy as np\n",
    "\n",
    "# Tokenize and preprocess plot text\n",
    "def preprocess_plot_text(plot_text):\n",
    "    tokens = word_tokenize(plot_text.replace(\"|\",\" \")) # to split genres\n",
    "    stop_words = set(stopwords.words('english'))\n",
    "    filtered_tokens = [word.lower() for word in tokens if word.isalnum() and word.lower() not in stop_words]\n",
    "    return \" \".join(filtered_tokens)\n",
    "\n",
    "movies_df['plot + title + genres'] = (movies_df['plot']+\" \"+movies_df['title']+\" \"+movies_df['genres']).apply(preprocess_plot_text)"
   ]
  },
  {
   "cell_type": "markdown",
   "metadata": {},
   "source": [
    "Next we will for each user get plots+title+genres of movies they rated. We won't consider unrated movies because we want to evaluate recommender and have a ground truth for it. So we filter out unrated movies."
   ]
  },
  {
   "cell_type": "code",
   "execution_count": 33,
   "metadata": {
    "ExecuteTime": {
     "end_time": "2023-10-12T10:00:48.922699200Z",
     "start_time": "2023-10-12T10:00:48.888831100Z"
    }
   },
   "outputs": [],
   "source": [
    "def get_user_rated_movies_plots(user):\n",
    "    selected_user_ratings = ratings_df[ratings_df['user'] == user]\n",
    "    rated_item_ids = list(selected_user_ratings['item'])\n",
    "    \n",
    "    # Filter movies_df based on rated_item_ids\n",
    "    rated_movies_df = movies_df[movies_df['item'].isin(rated_item_ids)]\n",
    "    rated_movies_df = rated_movies_df[['item','plot + title + genres']]\n",
    "    selected_user_ratings = selected_user_ratings.set_index('item') \n",
    "    rated_movies_df = rated_movies_df.join(selected_user_ratings['rating'], on='item')\n",
    "    rated_movies_df['user_id'] = user\n",
    "    return rated_movies_df"
   ]
  },
  {
   "cell_type": "markdown",
   "metadata": {},
   "source": [
    "In the next code cell for simplicity we evaluate our content based collaborative filltering based on holdout method where we take train test split equal 80%-20%.\n",
    "For metrics we decided to use MAE and RMSE to evaluate all of the predictions, and we decided to use nDCG to evaluate recommendation of 10 items to each user.\n",
    "Reason why we picked MAE is that it is the easiest to interpret its values (when MAE is for example 0.7 then we know that our recommendation is wrong on average for 0.7 rating). Next to MAE we also used RMSE because it penalizes more outliers in porediction and we want all users to get similary satisfied and not to have too much off calculations. We also wanted to evaluate how good our recommendations are when we predict list of top 10 items and that is why we decided to use nDCG. We picked nDCG because it is most used metrics for ranks in recommended systems and we could find nice built in application of rank_score metrics.\n"
   ]
  },
  {
   "cell_type": "code",
   "execution_count": 34,
   "metadata": {
    "ExecuteTime": {
     "end_time": "2023-10-12T10:01:17.726179400Z",
     "start_time": "2023-10-12T10:00:48.922699200Z"
    }
   },
   "outputs": [],
   "source": [
    "from sklearn.metrics import mean_squared_error\n",
    "from sklearn.metrics import mean_absolute_error\n",
    "from sklearn.metrics import ndcg_score\n",
    "\n",
    "rmse_scores = []\n",
    "mae = []\n",
    "ndcg = []\n",
    "predictions_all = []\n",
    "user_list = list(set(ratings_df['user']))\n",
    "user_plots_list = pd.DataFrame()\n",
    "for user in user_list:\n",
    "    user_plots_ratings_df = get_user_rated_movies_plots(user)\n",
    "    user_plots_list = pd.concat([user_plots_list,user_plots_ratings_df])\n",
    "    X = user_plots_ratings_df['plot + title + genres']\n",
    "    y = user_plots_ratings_df['rating']\n",
    "    X_train, X_test, y_train, y_test = train_test_split(X, y, test_size=0.2, random_state=42)\n",
    "    vectorizer = TfidfVectorizer()\n",
    "    X_train_tfidf = vectorizer.fit_transform(X_train)\n",
    "    X_test_tfidf = vectorizer.transform(X_test)\n",
    "    neigh = KNeighborsRegressor(n_neighbors=12, metric='cosine') # we choose cosine metric because we are using tfidf vectors and it gives better similarity measure\n",
    "                                                                # we choose n_neighbors=12 because there exists user with just 12 neighbors which we didnt filter out\n",
    "    neigh.fit(X_train_tfidf, y_train) \n",
    "    y_pred = neigh.predict(X_test_tfidf)\n",
    "    recommendations_df = pd.DataFrame({\n",
    "        'user': user,\n",
    "        'predicted_rating': y_pred,\n",
    "        'actual_rating': y_test.values\n",
    "    })\n",
    "    min_score = recommendations_df['predicted_rating'].min()\n",
    "    max_score = recommendations_df['predicted_rating'].max()\n",
    "    recommendations_df['predicted_rating'] = 5 * (recommendations_df['predicted_rating'] - min_score) / (max_score - min_score)\n",
    "    predictions_all.append(recommendations_df)\n",
    "    recommendations_df = recommendations_df.sort_values(by=['predicted_rating'], ascending=False).head(10)\n",
    "    knn_rmse = np.sqrt(mean_squared_error(y_test, y_pred))\n",
    "    knn_mae = mean_absolute_error(y_test, y_pred)\n",
    "    knn_ndcg = ndcg_score([recommendations_df['actual_rating'].apply(lambda x: 1 if x>2.5 else 0)], [recommendations_df['predicted_rating'].apply(lambda x: 1 if x>2.5 else 0)])\n",
    "    rmse_scores.append(knn_rmse)\n",
    "    mae.append(knn_mae)\n",
    "    ndcg.append(knn_ndcg)\n",
    "user_plots_folder = \"..\\\\data\\\\PreprocessedDataset\"\n",
    "user_plots_list.to_csv(user_plots_folder+\"\\\\user_plots.csv\", index=False)\n",
    "    \n",
    "    "
   ]
  },
  {
   "cell_type": "markdown",
   "metadata": {},
   "source": [
    "Bellow you can see results for each of above described metrics. Later we will cmake comparison with other recommenders to see which one performs the best on MovieLens dataset."
   ]
  },
  {
   "cell_type": "code",
   "execution_count": 35,
   "metadata": {
    "ExecuteTime": {
     "end_time": "2023-10-12T10:01:17.744332600Z",
     "start_time": "2023-10-12T10:01:17.726179400Z"
    }
   },
   "outputs": [
    {
     "name": "stdout",
     "output_type": "stream",
     "text": [
      "KNN RMSE:  0.8862657657341024\n",
      "KNN MAE:  0.7167635887952459\n",
      "KNN NDCG:  0.908630391613485\n"
     ]
    }
   ],
   "source": [
    "print(\"KNN RMSE: \", np.mean(rmse_scores))\n",
    "print(\"KNN MAE: \", np.mean(mae))\n",
    "print(\"KNN NDCG: \", np.mean(ndcg))"
   ]
  },
  {
   "cell_type": "markdown",
   "metadata": {},
   "source": [
    "Bellow you can see top 10 recommendations of our content based recommender to an user with predicted and their actual rating."
   ]
  },
  {
   "cell_type": "code",
   "execution_count": 36,
   "metadata": {
    "ExecuteTime": {
     "end_time": "2023-10-12T10:01:17.812464800Z",
     "start_time": "2023-10-12T10:01:17.744332600Z"
    }
   },
   "outputs": [
    {
     "name": "stdout",
     "output_type": "stream",
     "text": [
      "     user  predicted_rating  actual_rating\n",
      "10  71683            5.0000            3.0\n",
      "11  71683            3.7500            1.0\n",
      "1   71683            3.4375            3.5\n",
      "2   71683            2.8125            5.0\n",
      "3   71683            2.8125            3.5\n",
      "4   71683            2.8125            3.0\n",
      "12  71683            2.8125            4.0\n",
      "0   71683            2.5000            3.0\n",
      "13  71683            2.5000            5.0\n",
      "6   71683            2.1875            3.0\n"
     ]
    }
   ],
   "source": [
    "print(predictions_all[0].sort_values(by=['predicted_rating'], ascending=False).head(10))"
   ]
  },
  {
   "cell_type": "markdown",
   "metadata": {
    "collapsed": false
   },
   "source": [
    "# Collaborative filtering (KNN)\n",
    "Next we will create a collaborative filltering recommender system. We decided to implement both item based and user based on compare them. We want to prove hypothesis which professor mentioned in the class, there is no significant difference in results considering user based and item based cf. To do that comparison we will use also additional metrics such as precision recall and f1 score. To compare collaborative filltering with other implemented algorithms we will also use RMSE,MAE and nDCG."
   ]
  },
  {
   "cell_type": "code",
   "execution_count": 37,
   "metadata": {
    "collapsed": false,
    "ExecuteTime": {
     "end_time": "2023-10-12T10:01:17.843703Z",
     "start_time": "2023-10-12T10:01:17.760075700Z"
    }
   },
   "outputs": [],
   "source": [
    "from lenskit.metrics.predict import rmse\n",
    "from lenskit.algorithms import Recommender\n",
    "from lenskit.algorithms.user_knn import UserUser # collaborative filtering\n",
    "from lenskit.algorithms.item_knn import ItemItem # collaborative filtering\n",
    "from lenskit.algorithms.mf_common import MFPredictor\n",
    "\n",
    "from sklearn.model_selection import train_test_split\n",
    "from sklearn.metrics import precision_recall_fscore_support\n",
    "import matplotlib.pyplot as plt\n",
    "\n",
    "\n",
    "train_dataframe, test_dataframe = train_test_split(ratings_df, test_size=0.2, random_state=42) # 80-20 train test split\n",
    "\n",
    "user_user = UserUser(15, min_nbrs=12)\n",
    "item_item = ItemItem(15, min_nbrs=12)\n",
    "\n",
    "def evaluate_collaborative_filtering(model, train_df, test_df):\n",
    "    recsys = Recommender.adapt(model)\n",
    "    recsys.fit(train_df)\n",
    "    test_df['predicted_rating'] = recsys.predict(test_df)\n",
    "    min_score = test_df['predicted_rating'].min()\n",
    "    max_score = test_df['predicted_rating'].max()\n",
    "    test_df['predicted_rating'] = 5 * (test_df['predicted_rating'] - min_score) / (max_score - min_score)\n",
    "    test_df['relevant'] = test_df['rating'].apply(lambda x: 1 if x>2.5 else 0)\n",
    "    test_df['predicted_relevant'] = test_df['predicted_rating'].apply(lambda x: 1 if x>2.5 else 0)\n",
    "    y_test = list(test_df['relevant'])\n",
    "    y_pred = list(test_df['predicted_relevant'])\n",
    "    recommendations_df = pd.DataFrame({\n",
    "        'user': user,\n",
    "        'predicted_rating': test_df['predicted_rating'],\n",
    "        'actual_rating': test_df['rating']\n",
    "    })\n",
    "    precision, recall, fscore, _ = precision_recall_fscore_support(y_test, y_pred, average=\"binary\")\n",
    "\n",
    "    print(\"Precision:\\t\" + str(precision) +\n",
    "          \"\\nRecall:\\t\" + str(recall) +\n",
    "          \"\\nFscore:\\t\" + str(fscore))\n",
    "    return precision, recall, fscore, recommendations_df\n"
   ]
  },
  {
   "cell_type": "markdown",
   "metadata": {},
   "source": [
    "In code bellow we run evaluation of collaborative filltering for both item based and user based. Also for this evaluation we decided to use holdout method with 80-20 split because it is easier to implement."
   ]
  },
  {
   "cell_type": "code",
   "execution_count": 38,
   "metadata": {
    "ExecuteTime": {
     "end_time": "2023-10-12T10:01:23.577859Z",
     "start_time": "2023-10-12T10:01:17.791447200Z"
    }
   },
   "outputs": [
    {
     "name": "stdout",
     "output_type": "stream",
     "text": [
      "Precision:\t0.8729345830515025\n",
      "Recall:\t0.8423310023310023\n",
      "Fscore:\t0.8573597798234792\n",
      "Precision:\t0.888723245660739\n",
      "Recall:\t0.7781818181818182\n",
      "Fscore:\t0.8297872340425532\n"
     ]
    }
   ],
   "source": [
    "precision_user, recall_user, fscore_user,predictions_cf_user = evaluate_collaborative_filtering(user_user, train_dataframe, test_dataframe)\n",
    "precision_item, recall_item, fscore_item,predictions_cf_item = evaluate_collaborative_filtering(item_item, train_dataframe, test_dataframe)"
   ]
  },
  {
   "cell_type": "markdown",
   "metadata": {},
   "source": [
    "Bellow you can see top 10 recommendations to an user made by user based collaborative filtering"
   ]
  },
  {
   "cell_type": "code",
   "execution_count": 39,
   "metadata": {
    "ExecuteTime": {
     "end_time": "2023-10-12T10:01:23.636968500Z",
     "start_time": "2023-10-12T10:01:23.577859Z"
    }
   },
   "outputs": [
    {
     "name": "stdout",
     "output_type": "stream",
     "text": [
      "         user  predicted_rating  actual_rating\n",
      "2891   126970          5.000000            5.0\n",
      "2826   126970          4.797325            4.5\n",
      "10595  126970          4.789462            5.0\n",
      "3867   126970          4.754614            5.0\n",
      "27227  126970          4.707020            5.0\n",
      "60578  126970          4.701433            5.0\n",
      "6467   126970          4.689888            4.5\n",
      "62998  126970          4.664136            5.0\n",
      "68401  126970          4.645482            5.0\n",
      "51892  126970          4.639464            5.0\n"
     ]
    }
   ],
   "source": [
    "print(predictions_cf_user.sort_values(by=['predicted_rating'], ascending=False).head(10))"
   ]
  },
  {
   "cell_type": "markdown",
   "metadata": {},
   "source": [
    "Bellow you can see top 10 recommendations to an user made by item based collaborative filtering"
   ]
  },
  {
   "cell_type": "code",
   "execution_count": 40,
   "metadata": {
    "ExecuteTime": {
     "end_time": "2023-10-12T10:01:23.639014400Z",
     "start_time": "2023-10-12T10:01:23.598345700Z"
    }
   },
   "outputs": [
    {
     "name": "stdout",
     "output_type": "stream",
     "text": [
      "         user  predicted_rating  actual_rating\n",
      "62998  126970          5.000000            5.0\n",
      "9767   126970          4.803346            5.0\n",
      "30923  126970          4.795399            5.0\n",
      "27227  126970          4.753952            5.0\n",
      "50766  126970          4.717074            5.0\n",
      "9473   126970          4.621910            5.0\n",
      "64856  126970          4.613602            5.0\n",
      "66773  126970          4.566807            5.0\n",
      "4879   126970          4.544991            4.0\n",
      "2891   126970          4.487561            5.0\n"
     ]
    }
   ],
   "source": [
    "print(predictions_cf_item.sort_values(by=['predicted_rating'], ascending=False).head(10))\n"
   ]
  },
  {
   "cell_type": "markdown",
   "metadata": {},
   "source": [
    "Bellow we plot the values for precision, recall and Fscore for user-based(UU) and item-based (II). We can conclude our hypothesis that in all of these metrics user based and item based collaborative filltering perform with no significant difference. In all metrics value of difference is less than 0.01. "
   ]
  },
  {
   "cell_type": "code",
   "execution_count": 41,
   "metadata": {
    "ExecuteTime": {
     "end_time": "2023-10-12T10:01:23.761675200Z",
     "start_time": "2023-10-12T10:01:23.618434300Z"
    }
   },
   "outputs": [
    {
     "data": {
      "text/plain": "<Figure size 1000x600 with 1 Axes>",
      "image/png": "[encoded data removed]"
     },
     "metadata": {},
     "output_type": "display_data"
    }
   ],
   "source": [
    "plt.figure(figsize=(10,6))\n",
    "plt.bar(x = [0, 1 , 3, 4, 6, 7], height = [precision_user, precision_item, recall_user, recall_item, fscore_user, fscore_item], tick_label= ['Precision - UU', 'Precision - II', 'Recall - UU', 'Recall - II', 'Fscore - UU', 'Fscore - II'], color= [\"#987987\",\"#789789\",\"#987987\",\"#789789\",\"#987987\",\"#789789\"])\n",
    "plt.title('Comparison between user-user and item-item collaborative filtering')\n",
    "plt.show()"
   ]
  },
  {
   "cell_type": "markdown",
   "metadata": {
    "collapsed": false
   },
   "source": [
    "Next for the sake of comparison with other implemented algorithms we made 7-fold evaluation of collaborative filltering so we can sompare the results with content based and fallback recommender (shown to be best one among baseline recommenders)."
   ]
  },
  {
   "cell_type": "code",
   "execution_count": 42,
   "metadata": {
    "collapsed": false,
    "ExecuteTime": {
     "end_time": "2023-10-12T10:01:23.833297200Z",
     "start_time": "2023-10-12T10:01:23.761675200Z"
    }
   },
   "outputs": [],
   "source": [
    "import numpy as np\n",
    "from sklearn.metrics import mean_squared_error, mean_absolute_error\n",
    "from lenskit.metrics import topn\n",
    "from lenskit import batch\n",
    "from sklearn.model_selection import KFold\n",
    "\n",
    "def evaluate_collaborative_filtering_kfold(model, K):\n",
    "    kf = KFold(n_splits=K, shuffle=True, random_state=42)\n",
    "\n",
    "    rmse_list = list()\n",
    "    mae_list = list()\n",
    "    ndcg_list = list()\n",
    "\n",
    "    for train_index, test_index in kf.split(ratings_df):\n",
    "        train_df = ratings_df.iloc[train_index].copy()\n",
    "        test_df = ratings_df.iloc[test_index].copy()\n",
    "        recsys = Recommender.adapt(model)\n",
    "        recsys.fit(train_df)\n",
    "        test_df['score'] = recsys.predict(test_df)\n",
    "        min_score = test_df['score'].min()\n",
    "        max_score = test_df['score'].max()\n",
    "        test_df['score'] = 5 * (test_df['score'] - min_score) / (max_score - min_score)\n",
    "        test_df = test_df.dropna(subset=['score'])\n",
    "        rmse = np.sqrt(mean_squared_error(test_df['rating'], test_df['score']))\n",
    "        mae = mean_absolute_error(test_df['rating'], test_df['score'])\n",
    "        rmse_list.append(rmse)\n",
    "        mae_list.append(mae)\n",
    "        for user in test_df['user'].unique():\n",
    "            user_predictions = test_df[test_df['user'] == user]\n",
    "            if len(user_predictions) > 1:\n",
    "                recommendations_df = pd.DataFrame({\n",
    "                    'user': user,\n",
    "                    'predicted_rating': test_df[test_df['user']==user]['score'],\n",
    "                    'actual_rating': test_df[test_df['user']==user]['rating']\n",
    "                })\n",
    "                recommendations_df = recommendations_df.sort_values(by=['predicted_rating'], ascending=False).head(10)\n",
    "                ndcg_value = ndcg_score([recommendations_df['actual_rating'].apply(lambda x: 1 if x>2.5 else 0)], [recommendations_df['predicted_rating'].apply(lambda x: 1 if x>2.5 else 0)])\n",
    "                ndcg_list.append(ndcg_value)\n",
    "\n",
    "    avg_rmse = np.mean(rmse_list)\n",
    "    avg_mae = np.mean(mae_list)\n",
    "    avg_ndcg = np.mean(ndcg_list)\n",
    "\n",
    "    results = {\n",
    "        'avg_rmse': avg_rmse,\n",
    "        'avg_mae': avg_mae,\n",
    "        'avg_ndcg': avg_ndcg\n",
    "    }\n",
    "\n",
    "    print(results)\n",
    "    return results\n"
   ]
  },
  {
   "cell_type": "markdown",
   "metadata": {},
   "source": [
    "Bellow we run 7-fold evaluation for each of collaborative filtering algorithms."
   ]
  },
  {
   "cell_type": "code",
   "execution_count": 43,
   "metadata": {
    "ExecuteTime": {
     "end_time": "2023-10-12T10:02:24.621768800Z",
     "start_time": "2023-10-12T10:01:23.780059400Z"
    }
   },
   "outputs": [
    {
     "name": "stdout",
     "output_type": "stream",
     "text": [
      "{'avg_rmse': 0.9195284268170018, 'avg_mae': 0.7370477537257744, 'avg_ndcg': 0.9288916013102847}\n",
      "{'avg_rmse': 0.9744751830845865, 'avg_mae': 0.7949112399210722, 'avg_ndcg': 0.930994813283935}\n"
     ]
    }
   ],
   "source": [
    "user_user_metrics = evaluate_collaborative_filtering_kfold(user_user, 7)\n",
    "item_item_metrics = evaluate_collaborative_filtering_kfold(item_item, 7)"
   ]
  },
  {
   "cell_type": "markdown",
   "metadata": {},
   "source": [
    "Down we experiment between here implemented individual recommenders and Bias as the best baseline. Values we use for Bias are taken from one run and copy pastead because we cannot take values from another ipynb. \n",
    "Average RMSE over all splits for Bias algo : 0.92\n",
    "Average MAE over all splits for Bias algo: 0.74\n",
    "Average nDCG over all splits for Bias algo: 0.95"
   ]
  },
  {
   "cell_type": "code",
   "execution_count": 44,
   "metadata": {
    "ExecuteTime": {
     "end_time": "2023-10-12T10:02:24.957197Z",
     "start_time": "2023-10-12T10:02:24.639905Z"
    }
   },
   "outputs": [
    {
     "data": {
      "text/plain": "<Figure size 1000x600 with 3 Axes>",
      "image/png": "[encoded data removed]"
     },
     "metadata": {},
     "output_type": "display_data"
    }
   ],
   "source": [
    "import matplotlib.pyplot as plt\n",
    "import numpy as np\n",
    "\n",
    "rmse_scores = [user_user_metrics['avg_rmse'], item_item_metrics['avg_rmse'], np.mean(rmse_scores), 0.92]\n",
    "mae_scores = [user_user_metrics['avg_mae'], item_item_metrics['avg_mae'], np.mean(mae), 0.74]\n",
    "ndcg_scores = [user_user_metrics['avg_ndcg'], item_item_metrics['avg_ndcg'], np.mean(ndcg), 0.95]\n",
    "\n",
    "algorithms = ['User CF', 'Item CF', 'CB', 'Bias']\n",
    "colors = ['#FF5733', '#33FF57', '#5733FF', '#33FFFF']\n",
    "\n",
    "plt.figure(figsize=(10, 6))\n",
    "\n",
    "plt.subplot(1, 3, 1)\n",
    "plt.bar(algorithms, rmse_scores, color=colors)\n",
    "plt.ylabel('RMSE')\n",
    "plt.title('RMSE Comparison')\n",
    "\n",
    "plt.subplot(1, 3, 2)\n",
    "plt.bar(algorithms, mae_scores, color=colors)\n",
    "plt.ylabel('MAE')\n",
    "plt.title('MAE Comparison')\n",
    "\n",
    "plt.subplot(1, 3, 3)\n",
    "plt.bar(algorithms, ndcg_scores, color=colors)\n",
    "plt.ylabel('nDCG')\n",
    "plt.title('nDCG Comparison')\n",
    "\n",
    "plt.tight_layout()\n",
    "plt.show()\n"
   ]
  },
  {
   "cell_type": "markdown",
   "metadata": {},
   "source": [
    "In the presented evaluation results, the user-based collaborative filtering approach excels in terms of Root Mean Square Error (RMSE). RMSE is a measure of prediction accuracy that penalizes large errors. User-based collaborative filtering likely performs well in RMSE because it captures intricate user preferences by identifying similar users and recommending items based on their collective behavior. When users exhibit similar tastes, user-based collaborative filtering can generate accurate predictions, thus minimizing RMSE. However, user-based methods can suffer from scalability issues as the user-item interaction matrix grows. Additionally, they might not handle sparse data well, potentially leading to less accurate predictions for users with limited ratings history. These limitations might not have significantly impacted RMSE in this evaluation, explaining why user-based collaborative filtering outperformed other methods in this specific metric.\n",
    "\n",
    "On the other hand, Mean Absolute Error (MAE) provides a different perspective. It measures the average absolute difference between predicted and actual ratings, focusing on the magnitude of errors rather than their square. Content-based recommenders outperform other methods in MAE, suggesting that they excel in capturing the overall trend of user preferences. Content-based approaches leverage item features to make recommendations, making them effective when users' tastes align with specific item characteristics. This could explain their success in reducing MAE, as they focus on general trends within the data. Bias recommender's slight advantage in nDCG (Normalized Discounted Cumulative Gain) might stem from its ability to account for user and item biases, which can improve the ranking quality of recommendations. The unsignificant difference indicates that bias recommender's strengths might be more pronounced in specific scenarios or with particular subsets of users."
   ]
  },
  {
   "cell_type": "markdown",
   "metadata": {},
   "source": [
    "As results we can see that content based recommender gives the lowest error for both MAE while user based cf for RMSE metrics. Best one for nDCG is Bias recommender. We can conclude that for the need of recommending top 10 items nDCG Bias recommender is the best because it shows highly relevant items before in the sequence. On the other hand recommender which make smallest error while predicting ratings for rmse is user based cf recommender with knn classifier. We also can see that for metrics MAE and RMSE user based cf outperforms item based cf. The way how we could improve even more our scores is that we preprocessed dataset even more and filltered out more users (make treshold on number of ratings higher). In that way we could have made for our knn classifier neighbourhood size larger and with that our error would be lower. To conclude this as we explained previously (in baselines experiments) that our metric which we give the most weight to is RMSE and that is why we will use user based cf in group recommenders."
   ]
  }
 ],
 "metadata": {
  "kernelspec": {
   "display_name": "Python 3",
   "language": "python",
   "name": "python3"
  },
  "language_info": {
   "codemirror_mode": {
    "name": "ipython",
    "version": 3
   },
   "file_extension": ".py",
   "mimetype": "text/x-python",
   "name": "python",
   "nbconvert_exporter": "python",
   "pygments_lexer": "ipython3",
   "version": "3.10.11"
  }
 },
 "nbformat": 4,
 "nbformat_minor": 0
}

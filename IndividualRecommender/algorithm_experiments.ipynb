{
 "cells": [
  {
   "cell_type": "code",
   "execution_count": 49,
   "metadata": {
    "collapsed": true,
    "ExecuteTime": {
     "end_time": "2023-10-08T13:46:00.065702100Z",
     "start_time": "2023-10-08T13:45:59.941277600Z"
    }
   },
   "outputs": [
    {
     "data": {
      "text/plain": "     user    item  rating   timestamp\n0   17783    5954     5.0  1288572640\n1  147353    2805     2.0   979368264\n2   32778    1982     4.0  1559214270\n3   17160    1225     4.5  1151466878\n4   58005    6537     3.0  1112739432\n5  133040     736     2.0  1076959711\n6   73670    4975     2.0  1415292692\n7  118041    1248     4.5  1522631138\n8   73268  122904     0.5  1475355740\n9  133495    1388     1.0   991281570",
      "text/html": "<div>\n<style scoped>\n    .dataframe tbody tr th:only-of-type {\n        vertical-align: middle;\n    }\n\n    .dataframe tbody tr th {\n        vertical-align: top;\n    }\n\n    .dataframe thead th {\n        text-align: right;\n    }\n</style>\n<table border=\"1\" class=\"dataframe\">\n  <thead>\n    <tr style=\"text-align: right;\">\n      <th></th>\n      <th>user</th>\n      <th>item</th>\n      <th>rating</th>\n      <th>timestamp</th>\n    </tr>\n  </thead>\n  <tbody>\n    <tr>\n      <th>0</th>\n      <td>17783</td>\n      <td>5954</td>\n      <td>5.0</td>\n      <td>1288572640</td>\n    </tr>\n    <tr>\n      <th>1</th>\n      <td>147353</td>\n      <td>2805</td>\n      <td>2.0</td>\n      <td>979368264</td>\n    </tr>\n    <tr>\n      <th>2</th>\n      <td>32778</td>\n      <td>1982</td>\n      <td>4.0</td>\n      <td>1559214270</td>\n    </tr>\n    <tr>\n      <th>3</th>\n      <td>17160</td>\n      <td>1225</td>\n      <td>4.5</td>\n      <td>1151466878</td>\n    </tr>\n    <tr>\n      <th>4</th>\n      <td>58005</td>\n      <td>6537</td>\n      <td>3.0</td>\n      <td>1112739432</td>\n    </tr>\n    <tr>\n      <th>5</th>\n      <td>133040</td>\n      <td>736</td>\n      <td>2.0</td>\n      <td>1076959711</td>\n    </tr>\n    <tr>\n      <th>6</th>\n      <td>73670</td>\n      <td>4975</td>\n      <td>2.0</td>\n      <td>1415292692</td>\n    </tr>\n    <tr>\n      <th>7</th>\n      <td>118041</td>\n      <td>1248</td>\n      <td>4.5</td>\n      <td>1522631138</td>\n    </tr>\n    <tr>\n      <th>8</th>\n      <td>73268</td>\n      <td>122904</td>\n      <td>0.5</td>\n      <td>1475355740</td>\n    </tr>\n    <tr>\n      <th>9</th>\n      <td>133495</td>\n      <td>1388</td>\n      <td>1.0</td>\n      <td>991281570</td>\n    </tr>\n  </tbody>\n</table>\n</div>"
     },
     "metadata": {},
     "output_type": "display_data"
    }
   ],
   "source": [
    "import pandas as pd\n",
    "preprocessed_dataset_folder = \"../Data/PreprocessedDataset\"\n",
    "ratings_df = pd.read_csv(preprocessed_dataset_folder+\"/ratings.csv\")\n",
    "movies_df = pd.read_csv(preprocessed_dataset_folder+\"/movies.csv\")\n",
    "display(ratings_df.head(10))"
   ]
  },
  {
   "cell_type": "code",
   "execution_count": 50,
   "outputs": [
    {
     "data": {
      "text/plain": "   item                      title_original  \\\n0     1                    Toy Story (1995)   \n1     2                      Jumanji (1995)   \n2     3             Grumpier Old Men (1995)   \n3     5  Father of the Bride Part II (1995)   \n4     6                         Heat (1995)   \n\n                                        genres  year  \\\n0  Adventure|Animation|Children|Comedy|Fantasy  1995   \n1                   Adventure|Children|Fantasy  1995   \n2                               Comedy|Romance  1995   \n3                                       Comedy  1995   \n4                        Action|Crime|Thriller  1995   \n\n                         title  \\\n0                    toy story   \n1                      jumanji   \n2             grumpier old men   \n3  father of the bride part ii   \n4                         heat   \n\n                                                cast       director    origin  \\\n0                      tim allen, tom hanks (voices)  john lasseter  american   \n1  robin williams, bonnie hunt, kirsten dunst, br...   joe johnston  american   \n2  jack lemmon, walter matthau, ann-margret, soph...  howard deutch  american   \n3  steve martin, diane keaton, martin short, kimb...  charles shyer  american   \n4  al pacino, robert de niro, val kilmer, ashley ...   michael mann  american   \n\n                                                plot  \n0  In a world where toys are living things who pr...  \n1  In 1869, near Brantford, New Hampshire, two br...  \n2  The feud between Max (Walter Matthau) and John...  \n3  The film begins five years after the events of...  \n4  Neil McCauley, a career criminal, hires Waingr...  ",
      "text/html": "<div>\n<style scoped>\n    .dataframe tbody tr th:only-of-type {\n        vertical-align: middle;\n    }\n\n    .dataframe tbody tr th {\n        vertical-align: top;\n    }\n\n    .dataframe thead th {\n        text-align: right;\n    }\n</style>\n<table border=\"1\" class=\"dataframe\">\n  <thead>\n    <tr style=\"text-align: right;\">\n      <th></th>\n      <th>item</th>\n      <th>title_original</th>\n      <th>genres</th>\n      <th>year</th>\n      <th>title</th>\n      <th>cast</th>\n      <th>director</th>\n      <th>origin</th>\n      <th>plot</th>\n    </tr>\n  </thead>\n  <tbody>\n    <tr>\n      <th>0</th>\n      <td>1</td>\n      <td>Toy Story (1995)</td>\n      <td>Adventure|Animation|Children|Comedy|Fantasy</td>\n      <td>1995</td>\n      <td>toy story</td>\n      <td>tim allen, tom hanks (voices)</td>\n      <td>john lasseter</td>\n      <td>american</td>\n      <td>In a world where toys are living things who pr...</td>\n    </tr>\n    <tr>\n      <th>1</th>\n      <td>2</td>\n      <td>Jumanji (1995)</td>\n      <td>Adventure|Children|Fantasy</td>\n      <td>1995</td>\n      <td>jumanji</td>\n      <td>robin williams, bonnie hunt, kirsten dunst, br...</td>\n      <td>joe johnston</td>\n      <td>american</td>\n      <td>In 1869, near Brantford, New Hampshire, two br...</td>\n    </tr>\n    <tr>\n      <th>2</th>\n      <td>3</td>\n      <td>Grumpier Old Men (1995)</td>\n      <td>Comedy|Romance</td>\n      <td>1995</td>\n      <td>grumpier old men</td>\n      <td>jack lemmon, walter matthau, ann-margret, soph...</td>\n      <td>howard deutch</td>\n      <td>american</td>\n      <td>The feud between Max (Walter Matthau) and John...</td>\n    </tr>\n    <tr>\n      <th>3</th>\n      <td>5</td>\n      <td>Father of the Bride Part II (1995)</td>\n      <td>Comedy</td>\n      <td>1995</td>\n      <td>father of the bride part ii</td>\n      <td>steve martin, diane keaton, martin short, kimb...</td>\n      <td>charles shyer</td>\n      <td>american</td>\n      <td>The film begins five years after the events of...</td>\n    </tr>\n    <tr>\n      <th>4</th>\n      <td>6</td>\n      <td>Heat (1995)</td>\n      <td>Action|Crime|Thriller</td>\n      <td>1995</td>\n      <td>heat</td>\n      <td>al pacino, robert de niro, val kilmer, ashley ...</td>\n      <td>michael mann</td>\n      <td>american</td>\n      <td>Neil McCauley, a career criminal, hires Waingr...</td>\n    </tr>\n  </tbody>\n</table>\n</div>"
     },
     "metadata": {},
     "output_type": "display_data"
    }
   ],
   "source": [
    "display(movies_df.head(5))"
   ],
   "metadata": {
    "collapsed": false,
    "ExecuteTime": {
     "end_time": "2023-10-08T13:46:00.090790100Z",
     "start_time": "2023-10-08T13:46:00.074673900Z"
    }
   }
  },
  {
   "cell_type": "markdown",
   "source": [
    "# Movie dataframe preprocessing for content based/matrix factorisation"
   ],
   "metadata": {
    "collapsed": false
   }
  },
  {
   "cell_type": "code",
   "execution_count": 51,
   "outputs": [
    {
     "data": {
      "text/plain": "0      world toys living things pretend lifeless huma...\n1      1869 near brantford new hampshire two brothers...\n2      feud max walter matthau john jack lemmon coole...\n3      film begins five years events first one george...\n4      neil mccauley career criminal hires waingro he...\n                             ...                        \n973    1823 hugh glass guides andrew henry trappers u...\n974    world populated anthropomorphic mammals judy h...\n975    photographer chris washington reluctantly agre...\n976    2029 mutants born 25 years logan healing abili...\n977    2049 replicants described bioengineered humans...\nName: cleaned_plot, Length: 978, dtype: object"
     },
     "metadata": {},
     "output_type": "display_data"
    },
    {
     "data": {
      "text/plain": "       item                      title_original  \\\n0         1                    Toy Story (1995)   \n1         2                      Jumanji (1995)   \n2         3             Grumpier Old Men (1995)   \n3         5  Father of the Bride Part II (1995)   \n4         6                         Heat (1995)   \n..      ...                                 ...   \n973  139385                 The Revenant (2015)   \n974  152081                     Zootopia (2016)   \n975  168250                      Get Out (2017)   \n976  168252                        Logan (2017)   \n977  176371            Blade Runner 2049 (2017)   \n\n                                          genres  year  \\\n0    Adventure|Animation|Children|Comedy|Fantasy  1995   \n1                     Adventure|Children|Fantasy  1995   \n2                                 Comedy|Romance  1995   \n3                                         Comedy  1995   \n4                          Action|Crime|Thriller  1995   \n..                                           ...   ...   \n973                              Adventure|Drama  2015   \n974   Action|Adventure|Animation|Children|Comedy  2016   \n975                                       Horror  2017   \n976                                Action|Sci-Fi  2017   \n977                                       Sci-Fi  2017   \n\n                           title  cast                 director    origin  \\\n0                      toy story   865            john lasseter  american   \n1                        jumanji   764             joe johnston  american   \n2               grumpier old men   353            howard deutch  american   \n3    father of the bride part ii   838            charles shyer  american   \n4                           heat    16             michael mann  american   \n..                           ...   ...                      ...       ...   \n973                 the revenant   551    alejandro g. iñárritu  american   \n974                     zootopia   297  byron howard rich moore  american   \n975                      get out   474             jordan peele  american   \n976                        logan   375            james mangold  american   \n977            blade runner 2049   206         denis villeneuve  american   \n\n                                                  plot  \\\n0    In a world where toys are living things who pr...   \n1    In 1869, near Brantford, New Hampshire, two br...   \n2    The feud between Max (Walter Matthau) and John...   \n3    The film begins five years after the events of...   \n4    Neil McCauley, a career criminal, hires Waingr...   \n..                                                 ...   \n973  In 1823, Hugh Glass guides Andrew Henry’s trap...   \n974  In a world populated by anthropomorphic mammal...   \n975  African-American photographer Chris Washington...   \n976  In 2029, no mutants have been born in 25 years...   \n977  In 2049, replicants (described as \"bioengineer...   \n\n                                          cleaned_plot  ...  époque  état  \\\n0    world toys living things pretend lifeless huma...  ...     0.0   0.0   \n1    1869 near brantford new hampshire two brothers...  ...     0.0   0.0   \n2    feud max walter matthau john jack lemmon coole...  ...     0.0   0.0   \n3    film begins five years events first one george...  ...     0.0   0.0   \n4    neil mccauley career criminal hires waingro he...  ...     0.0   0.0   \n..                                                 ...  ...     ...   ...   \n973  1823 hugh glass guides andrew henry trappers u...  ...     0.0   0.0   \n974  world populated anthropomorphic mammals judy h...  ...     0.0   0.0   \n975  photographer chris washington reluctantly agre...  ...     0.0   0.0   \n976  2029 mutants born 25 years logan healing abili...  ...     0.0   0.0   \n977  2049 replicants described bioengineered humans...  ...     0.0   0.0   \n\n     ōnishi  ʻohana  千恵子  安二郎   真宮   綿谷   賢治   魔怪  \n0       0.0     0.0  0.0  0.0  0.0  0.0  0.0  0.0  \n1       0.0     0.0  0.0  0.0  0.0  0.0  0.0  0.0  \n2       0.0     0.0  0.0  0.0  0.0  0.0  0.0  0.0  \n3       0.0     0.0  0.0  0.0  0.0  0.0  0.0  0.0  \n4       0.0     0.0  0.0  0.0  0.0  0.0  0.0  0.0  \n..      ...     ...  ...  ...  ...  ...  ...  ...  \n973     0.0     0.0  0.0  0.0  0.0  0.0  0.0  0.0  \n974     0.0     0.0  0.0  0.0  0.0  0.0  0.0  0.0  \n975     0.0     0.0  0.0  0.0  0.0  0.0  0.0  0.0  \n976     0.0     0.0  0.0  0.0  0.0  0.0  0.0  0.0  \n977     0.0     0.0  0.0  0.0  0.0  0.0  0.0  0.0  \n\n[978 rows x 30033 columns]",
      "text/html": "<div>\n<style scoped>\n    .dataframe tbody tr th:only-of-type {\n        vertical-align: middle;\n    }\n\n    .dataframe tbody tr th {\n        vertical-align: top;\n    }\n\n    .dataframe thead th {\n        text-align: right;\n    }\n</style>\n<table border=\"1\" class=\"dataframe\">\n  <thead>\n    <tr style=\"text-align: right;\">\n      <th></th>\n      <th>item</th>\n      <th>title_original</th>\n      <th>genres</th>\n      <th>year</th>\n      <th>title</th>\n      <th>cast</th>\n      <th>director</th>\n      <th>origin</th>\n      <th>plot</th>\n      <th>cleaned_plot</th>\n      <th>...</th>\n      <th>époque</th>\n      <th>état</th>\n      <th>ōnishi</th>\n      <th>ʻohana</th>\n      <th>千恵子</th>\n      <th>安二郎</th>\n      <th>真宮</th>\n      <th>綿谷</th>\n      <th>賢治</th>\n      <th>魔怪</th>\n    </tr>\n  </thead>\n  <tbody>\n    <tr>\n      <th>0</th>\n      <td>1</td>\n      <td>Toy Story (1995)</td>\n      <td>Adventure|Animation|Children|Comedy|Fantasy</td>\n      <td>1995</td>\n      <td>toy story</td>\n      <td>865</td>\n      <td>john lasseter</td>\n      <td>american</td>\n      <td>In a world where toys are living things who pr...</td>\n      <td>world toys living things pretend lifeless huma...</td>\n      <td>...</td>\n      <td>0.0</td>\n      <td>0.0</td>\n      <td>0.0</td>\n      <td>0.0</td>\n      <td>0.0</td>\n      <td>0.0</td>\n      <td>0.0</td>\n      <td>0.0</td>\n      <td>0.0</td>\n      <td>0.0</td>\n    </tr>\n    <tr>\n      <th>1</th>\n      <td>2</td>\n      <td>Jumanji (1995)</td>\n      <td>Adventure|Children|Fantasy</td>\n      <td>1995</td>\n      <td>jumanji</td>\n      <td>764</td>\n      <td>joe johnston</td>\n      <td>american</td>\n      <td>In 1869, near Brantford, New Hampshire, two br...</td>\n      <td>1869 near brantford new hampshire two brothers...</td>\n      <td>...</td>\n      <td>0.0</td>\n      <td>0.0</td>\n      <td>0.0</td>\n      <td>0.0</td>\n      <td>0.0</td>\n      <td>0.0</td>\n      <td>0.0</td>\n      <td>0.0</td>\n      <td>0.0</td>\n      <td>0.0</td>\n    </tr>\n    <tr>\n      <th>2</th>\n      <td>3</td>\n      <td>Grumpier Old Men (1995)</td>\n      <td>Comedy|Romance</td>\n      <td>1995</td>\n      <td>grumpier old men</td>\n      <td>353</td>\n      <td>howard deutch</td>\n      <td>american</td>\n      <td>The feud between Max (Walter Matthau) and John...</td>\n      <td>feud max walter matthau john jack lemmon coole...</td>\n      <td>...</td>\n      <td>0.0</td>\n      <td>0.0</td>\n      <td>0.0</td>\n      <td>0.0</td>\n      <td>0.0</td>\n      <td>0.0</td>\n      <td>0.0</td>\n      <td>0.0</td>\n      <td>0.0</td>\n      <td>0.0</td>\n    </tr>\n    <tr>\n      <th>3</th>\n      <td>5</td>\n      <td>Father of the Bride Part II (1995)</td>\n      <td>Comedy</td>\n      <td>1995</td>\n      <td>father of the bride part ii</td>\n      <td>838</td>\n      <td>charles shyer</td>\n      <td>american</td>\n      <td>The film begins five years after the events of...</td>\n      <td>film begins five years events first one george...</td>\n      <td>...</td>\n      <td>0.0</td>\n      <td>0.0</td>\n      <td>0.0</td>\n      <td>0.0</td>\n      <td>0.0</td>\n      <td>0.0</td>\n      <td>0.0</td>\n      <td>0.0</td>\n      <td>0.0</td>\n      <td>0.0</td>\n    </tr>\n    <tr>\n      <th>4</th>\n      <td>6</td>\n      <td>Heat (1995)</td>\n      <td>Action|Crime|Thriller</td>\n      <td>1995</td>\n      <td>heat</td>\n      <td>16</td>\n      <td>michael mann</td>\n      <td>american</td>\n      <td>Neil McCauley, a career criminal, hires Waingr...</td>\n      <td>neil mccauley career criminal hires waingro he...</td>\n      <td>...</td>\n      <td>0.0</td>\n      <td>0.0</td>\n      <td>0.0</td>\n      <td>0.0</td>\n      <td>0.0</td>\n      <td>0.0</td>\n      <td>0.0</td>\n      <td>0.0</td>\n      <td>0.0</td>\n      <td>0.0</td>\n    </tr>\n    <tr>\n      <th>...</th>\n      <td>...</td>\n      <td>...</td>\n      <td>...</td>\n      <td>...</td>\n      <td>...</td>\n      <td>...</td>\n      <td>...</td>\n      <td>...</td>\n      <td>...</td>\n      <td>...</td>\n      <td>...</td>\n      <td>...</td>\n      <td>...</td>\n      <td>...</td>\n      <td>...</td>\n      <td>...</td>\n      <td>...</td>\n      <td>...</td>\n      <td>...</td>\n      <td>...</td>\n      <td>...</td>\n    </tr>\n    <tr>\n      <th>973</th>\n      <td>139385</td>\n      <td>The Revenant (2015)</td>\n      <td>Adventure|Drama</td>\n      <td>2015</td>\n      <td>the revenant</td>\n      <td>551</td>\n      <td>alejandro g. iñárritu</td>\n      <td>american</td>\n      <td>In 1823, Hugh Glass guides Andrew Henry’s trap...</td>\n      <td>1823 hugh glass guides andrew henry trappers u...</td>\n      <td>...</td>\n      <td>0.0</td>\n      <td>0.0</td>\n      <td>0.0</td>\n      <td>0.0</td>\n      <td>0.0</td>\n      <td>0.0</td>\n      <td>0.0</td>\n      <td>0.0</td>\n      <td>0.0</td>\n      <td>0.0</td>\n    </tr>\n    <tr>\n      <th>974</th>\n      <td>152081</td>\n      <td>Zootopia (2016)</td>\n      <td>Action|Adventure|Animation|Children|Comedy</td>\n      <td>2016</td>\n      <td>zootopia</td>\n      <td>297</td>\n      <td>byron howard rich moore</td>\n      <td>american</td>\n      <td>In a world populated by anthropomorphic mammal...</td>\n      <td>world populated anthropomorphic mammals judy h...</td>\n      <td>...</td>\n      <td>0.0</td>\n      <td>0.0</td>\n      <td>0.0</td>\n      <td>0.0</td>\n      <td>0.0</td>\n      <td>0.0</td>\n      <td>0.0</td>\n      <td>0.0</td>\n      <td>0.0</td>\n      <td>0.0</td>\n    </tr>\n    <tr>\n      <th>975</th>\n      <td>168250</td>\n      <td>Get Out (2017)</td>\n      <td>Horror</td>\n      <td>2017</td>\n      <td>get out</td>\n      <td>474</td>\n      <td>jordan peele</td>\n      <td>american</td>\n      <td>African-American photographer Chris Washington...</td>\n      <td>photographer chris washington reluctantly agre...</td>\n      <td>...</td>\n      <td>0.0</td>\n      <td>0.0</td>\n      <td>0.0</td>\n      <td>0.0</td>\n      <td>0.0</td>\n      <td>0.0</td>\n      <td>0.0</td>\n      <td>0.0</td>\n      <td>0.0</td>\n      <td>0.0</td>\n    </tr>\n    <tr>\n      <th>976</th>\n      <td>168252</td>\n      <td>Logan (2017)</td>\n      <td>Action|Sci-Fi</td>\n      <td>2017</td>\n      <td>logan</td>\n      <td>375</td>\n      <td>james mangold</td>\n      <td>american</td>\n      <td>In 2029, no mutants have been born in 25 years...</td>\n      <td>2029 mutants born 25 years logan healing abili...</td>\n      <td>...</td>\n      <td>0.0</td>\n      <td>0.0</td>\n      <td>0.0</td>\n      <td>0.0</td>\n      <td>0.0</td>\n      <td>0.0</td>\n      <td>0.0</td>\n      <td>0.0</td>\n      <td>0.0</td>\n      <td>0.0</td>\n    </tr>\n    <tr>\n      <th>977</th>\n      <td>176371</td>\n      <td>Blade Runner 2049 (2017)</td>\n      <td>Sci-Fi</td>\n      <td>2017</td>\n      <td>blade runner 2049</td>\n      <td>206</td>\n      <td>denis villeneuve</td>\n      <td>american</td>\n      <td>In 2049, replicants (described as \"bioengineer...</td>\n      <td>2049 replicants described bioengineered humans...</td>\n      <td>...</td>\n      <td>0.0</td>\n      <td>0.0</td>\n      <td>0.0</td>\n      <td>0.0</td>\n      <td>0.0</td>\n      <td>0.0</td>\n      <td>0.0</td>\n      <td>0.0</td>\n      <td>0.0</td>\n      <td>0.0</td>\n    </tr>\n  </tbody>\n</table>\n<p>978 rows × 30033 columns</p>\n</div>"
     },
     "metadata": {},
     "output_type": "display_data"
    }
   ],
   "source": [
    "from sklearn.feature_extraction.text import TfidfVectorizer\n",
    "from sklearn.decomposition import PCA\n",
    "from sklearn.preprocessing import MultiLabelBinarizer\n",
    "from sklearn.preprocessing import LabelEncoder\n",
    "from nltk.corpus import stopwords\n",
    "from nltk.tokenize import word_tokenize\n",
    "import numpy as np\n",
    "\n",
    "# Preprocessing genre: one-hot encoding, each movie can belong to multiple genres, which are separated by '|'.\n",
    "mlb = MultiLabelBinarizer()\n",
    "genre_features = mlb.fit_transform(movies_df['genres'].str.split('|'))\n",
    "genre_df = pd.DataFrame(genre_features, columns=mlb.classes_)\n",
    "\n",
    "# Preprocessing cast: encoding categorical values (names of actors) as numerical labels.\n",
    "le = LabelEncoder()\n",
    "movies_df['cast'] = le.fit_transform(movies_df['cast'])\n",
    "\n",
    "# Preprocessing plot:\n",
    "def preprocess_plot_text(plot_text):\n",
    "    # Tokenizing the plot text into individual words or phrases\n",
    "    tokens = word_tokenize(plot_text)\n",
    "    # Remove stop words and convert words to lowercase\n",
    "    stop_words = set(stopwords.words('english'))\n",
    "    filtered_tokens = [word.lower() for word in tokens if word.isalnum() and word.lower() not in stop_words]\n",
    "    return \" \".join(filtered_tokens)\n",
    "\n",
    "movies_df['cleaned_plot'] = movies_df['plot'].apply(preprocess_plot_text)\n",
    "display(movies_df['cleaned_plot'])\n",
    "\n",
    "tfidf_vectorizer = TfidfVectorizer(stop_words='english')\n",
    "plot_features = tfidf_vectorizer.fit_transform(movies_df['plot'])\n",
    "plot_df = pd.DataFrame(plot_features.toarray(), columns=tfidf_vectorizer.get_feature_names_out())\n",
    "\n",
    "# # Perform PCA for dimensionality reduction\n",
    "# n_components = 200\n",
    "# pca = PCA(n_components=n_components)\n",
    "# plot_pca = pca.fit_transform(plot_features.toarray())\n",
    "# plot_pca_df = pd.DataFrame(plot_pca, columns=[f'plotPCA_{i+1}' for i in range(n_components)])\n",
    "\n",
    "movies_df = pd.concat([movies_df, plot_df], axis=1)\n",
    "display(movies_df)"
   ],
   "metadata": {
    "collapsed": false,
    "ExecuteTime": {
     "end_time": "2023-10-08T13:46:05.173331600Z",
     "start_time": "2023-10-08T13:46:00.082815Z"
    }
   }
  },
  {
   "cell_type": "code",
   "execution_count": 52,
   "outputs": [],
   "source": [
    "from wordcloud import WordCloud\n",
    "\n",
    "# May be useful for visual explanations\n",
    "# Visualises commonly occuring words in a set of movie plots\n",
    "def visualize_wordcloud_for_movie_set(movie_indices, movie_df):\n",
    "    combined_plot_text = \"\"\n",
    "\n",
    "    for index in movie_indices:\n",
    "        movie_col = movie_df['plot']\n",
    "        movie_row = movie_col.iloc[index]\n",
    "        cleaned_plot = preprocess_plot_text(str(movie_row))\n",
    "        # cleaned_plot = movie_row.astype('string')\n",
    "        print(str(cleaned_plot))\n",
    "        combined_plot_text += cleaned_plot + \" \"\n",
    "\n",
    "    # Create a word cloud for the combined plot text\n",
    "    wordcloud = WordCloud(width=800, height=400, background_color='white').generate(combined_plot_text)\n",
    "\n",
    "    plt.figure(figsize=(10, 5))\n",
    "    plt.imshow(wordcloud, interpolation='bilinear')\n",
    "    plt.axis('off')\n",
    "    plt.title(\"Word Cloud\")\n",
    "    plt.show()\n",
    "\n",
    "movie_indices_to_visualize = [0, 1]\n",
    "# visualize_wordcloud_for_movie_set(movie_indices_to_visualize, movies_df)"
   ],
   "metadata": {
    "collapsed": false,
    "ExecuteTime": {
     "end_time": "2023-10-08T13:46:05.189359Z",
     "start_time": "2023-10-08T13:46:05.174989600Z"
    }
   }
  },
  {
   "cell_type": "markdown",
   "source": [
    "# Collaborative filtering (KNN)\n",
    "Let's start by creating a regressor that will predict the user ratings on unseen movies and recommend the ones with the highest predicted ratings for the user"
   ],
   "metadata": {
    "collapsed": false
   }
  },
  {
   "cell_type": "code",
   "execution_count": 54,
   "outputs": [
    {
     "name": "stderr",
     "output_type": "stream",
     "text": [
      "Numba is using threading layer omp - consider TBB\n",
      "found 1 potential runtime problems - see https://boi.st/lkpy-perf\n"
     ]
    },
    {
     "name": "stdout",
     "output_type": "stream",
     "text": [
      "Precision:\t0.677821324490001\n",
      "Recall:\t0.8685294875096575\n",
      "Fscore:\t0.7614155895467629\n",
      "Precision:\t0.6755371575004928\n",
      "Recall:\t0.8825650270409477\n",
      "Fscore:\t0.7652970075926753\n"
     ]
    },
    {
     "data": {
      "text/plain": "<Figure size 1000x600 with 1 Axes>",
      "image/png": "[encoded data removed]"
     },
     "metadata": {},
     "output_type": "display_data"
    }
   ],
   "source": [
    "from lenskit.metrics.predict import rmse\n",
    "from lenskit.algorithms import Recommender\n",
    "from lenskit.algorithms.user_knn import UserUser # collaborative filtering\n",
    "from lenskit.algorithms.item_knn import ItemItem # collaborative filtering\n",
    "from lenskit.algorithms.mf_common import MFPredictor\n",
    "\n",
    "from sklearn.model_selection import train_test_split\n",
    "from sklearn.metrics import precision_recall_fscore_support\n",
    "import matplotlib.pyplot as plt\n",
    "\n",
    "# All metrics?\n",
    "# rmse mae\n",
    "# average precision, ndcg, rank score\n",
    "\n",
    "train_dataframe, test_dataframe = train_test_split(ratings_df, test_size=0.2) # 80-20 train test split\n",
    "\n",
    "user_user = UserUser(15, min_nbrs=3)\n",
    "item_item = ItemItem(15, min_nbrs=3)\n",
    "\n",
    "def evaluate_collaborative_filtering(model, train_df, test_df):\n",
    "    recsys = Recommender.adapt(model)\n",
    "    recsys.fit(train_df)\n",
    "    test_df['predicted_rating'] = recsys.predict(test_df)\n",
    "    test_df['relevant'] = test_df['rating'].apply(lambda x: 1 if x>3 else 0)\n",
    "    test_df['predicted_relevant'] = test_df['predicted_rating'].apply(lambda x: 1 if x>3 else 0)\n",
    "    y_test = list(test_df['relevant'])\n",
    "    y_pred = list(test_df['predicted_relevant'])\n",
    "    precision, recall, fscore, _ = precision_recall_fscore_support(y_test, y_pred, average=\"binary\")\n",
    "\n",
    "    print(\"Precision:\\t\" + str(precision) +\n",
    "          \"\\nRecall:\\t\" + str(recall) +\n",
    "          \"\\nFscore:\\t\" + str(fscore))\n",
    "    return precision, recall, fscore\n",
    "\n",
    "# Let's now plot and compare the two models - user and item based collaborative filtering\n",
    "precision_user, recall_user, fscore_user = evaluate_collaborative_filtering(user_user, train_dataframe, test_dataframe)\n",
    "precision_item, recall_item, fscore_item = evaluate_collaborative_filtering(item_item, train_dataframe, test_dataframe)\n",
    "\n",
    "plt.figure(figsize=(10,6))\n",
    "plt.bar(x = [0, 1 , 3, 4, 6, 7], height = [precision_user, precision_item, recall_user, recall_item, fscore_user, fscore_item], tick_label= ['Precision - UU', 'Precision - II', 'Recall - UU', 'Recall - II', 'Fscore - UU', 'Fscore - II'], color= [\"#987987\",\"#789789\",\"#987987\",\"#789789\",\"#987987\",\"#789789\"])\n",
    "plt.title('Comparison between user-user and item-item collaborative filtering')\n",
    "plt.show()"
   ],
   "metadata": {
    "collapsed": false,
    "ExecuteTime": {
     "end_time": "2023-10-08T13:47:13.826351700Z",
     "start_time": "2023-10-08T13:46:49.742827100Z"
    }
   }
  },
  {
   "cell_type": "markdown",
   "source": [
    "Now let's check another evaluation method - cross validation with 5 folds:"
   ],
   "metadata": {
    "collapsed": false
   }
  },
  {
   "cell_type": "code",
   "execution_count": 56,
   "outputs": [
    {
     "name": "stderr",
     "output_type": "stream",
     "text": [
      "C:\\Users\\LiwiaPadowska\\AppData\\Local\\Temp\\ipykernel_14848\\136451359.py:20: SettingWithCopyWarning: \n",
      "A value is trying to be set on a copy of a slice from a DataFrame.\n",
      "Try using .loc[row_indexer,col_indexer] = value instead\n",
      "\n",
      "See the caveats in the documentation: https://pandas.pydata.org/pandas-docs/stable/user_guide/indexing.html#returning-a-view-versus-a-copy\n",
      "  test_df['predicted_rating'] = recsys.predict(test_df)\n",
      "C:\\Users\\LiwiaPadowska\\AppData\\Local\\Temp\\ipykernel_14848\\136451359.py:21: SettingWithCopyWarning: \n",
      "A value is trying to be set on a copy of a slice from a DataFrame.\n",
      "Try using .loc[row_indexer,col_indexer] = value instead\n",
      "\n",
      "See the caveats in the documentation: https://pandas.pydata.org/pandas-docs/stable/user_guide/indexing.html#returning-a-view-versus-a-copy\n",
      "  test_df['relevant'] = test_df['rating'].apply(lambda x: 1 if x > 3 else 0)\n",
      "C:\\Users\\LiwiaPadowska\\AppData\\Local\\Temp\\ipykernel_14848\\136451359.py:22: SettingWithCopyWarning: \n",
      "A value is trying to be set on a copy of a slice from a DataFrame.\n",
      "Try using .loc[row_indexer,col_indexer] = value instead\n",
      "\n",
      "See the caveats in the documentation: https://pandas.pydata.org/pandas-docs/stable/user_guide/indexing.html#returning-a-view-versus-a-copy\n",
      "  test_df['predicted_relevant'] = test_df['predicted_rating'].apply(lambda x: 1 if x > 3 else 0)\n",
      "C:\\Users\\LiwiaPadowska\\AppData\\Local\\Temp\\ipykernel_14848\\136451359.py:20: SettingWithCopyWarning: \n",
      "A value is trying to be set on a copy of a slice from a DataFrame.\n",
      "Try using .loc[row_indexer,col_indexer] = value instead\n",
      "\n",
      "See the caveats in the documentation: https://pandas.pydata.org/pandas-docs/stable/user_guide/indexing.html#returning-a-view-versus-a-copy\n",
      "  test_df['predicted_rating'] = recsys.predict(test_df)\n",
      "C:\\Users\\LiwiaPadowska\\AppData\\Local\\Temp\\ipykernel_14848\\136451359.py:21: SettingWithCopyWarning: \n",
      "A value is trying to be set on a copy of a slice from a DataFrame.\n",
      "Try using .loc[row_indexer,col_indexer] = value instead\n",
      "\n",
      "See the caveats in the documentation: https://pandas.pydata.org/pandas-docs/stable/user_guide/indexing.html#returning-a-view-versus-a-copy\n",
      "  test_df['relevant'] = test_df['rating'].apply(lambda x: 1 if x > 3 else 0)\n",
      "C:\\Users\\LiwiaPadowska\\AppData\\Local\\Temp\\ipykernel_14848\\136451359.py:22: SettingWithCopyWarning: \n",
      "A value is trying to be set on a copy of a slice from a DataFrame.\n",
      "Try using .loc[row_indexer,col_indexer] = value instead\n",
      "\n",
      "See the caveats in the documentation: https://pandas.pydata.org/pandas-docs/stable/user_guide/indexing.html#returning-a-view-versus-a-copy\n",
      "  test_df['predicted_relevant'] = test_df['predicted_rating'].apply(lambda x: 1 if x > 3 else 0)\n"
     ]
    },
    {
     "data": {
      "text/plain": "{'avg_precision': 0.6800323617006373,\n 'stdv_precision': 0.003383465000535969,\n 'avg_recall': 0.8828718041288802,\n 'stdv_recall': 0.003995054068892932,\n 'avg_fscore': 0.7682794153756058,\n 'stdv_fscore': 0.0019515318173450264}"
     },
     "metadata": {},
     "output_type": "display_data"
    },
    {
     "name": "stderr",
     "output_type": "stream",
     "text": [
      "C:\\Users\\LiwiaPadowska\\AppData\\Local\\Temp\\ipykernel_14848\\3889237732.py:19: SettingWithCopyWarning: \n",
      "A value is trying to be set on a copy of a slice from a DataFrame.\n",
      "Try using .loc[row_indexer,col_indexer] = value instead\n",
      "\n",
      "See the caveats in the documentation: https://pandas.pydata.org/pandas-docs/stable/user_guide/indexing.html#returning-a-view-versus-a-copy\n",
      "  test_df['predicted_rating'] = recsys.predict(test_df)\n",
      "C:\\Users\\LiwiaPadowska\\AppData\\Local\\Temp\\ipykernel_14848\\3889237732.py:20: SettingWithCopyWarning: \n",
      "A value is trying to be set on a copy of a slice from a DataFrame.\n",
      "Try using .loc[row_indexer,col_indexer] = value instead\n",
      "\n",
      "See the caveats in the documentation: https://pandas.pydata.org/pandas-docs/stable/user_guide/indexing.html#returning-a-view-versus-a-copy\n",
      "  test_df['relevant'] = test_df['rating'].apply(lambda x: 1 if x > 3 else 0)\n",
      "C:\\Users\\LiwiaPadowska\\AppData\\Local\\Temp\\ipykernel_14848\\3889237732.py:21: SettingWithCopyWarning: \n",
      "A value is trying to be set on a copy of a slice from a DataFrame.\n",
      "Try using .loc[row_indexer,col_indexer] = value instead\n",
      "\n",
      "See the caveats in the documentation: https://pandas.pydata.org/pandas-docs/stable/user_guide/indexing.html#returning-a-view-versus-a-copy\n",
      "  test_df['predicted_relevant'] = test_df['predicted_rating'].apply(lambda x: 1 if x > 3 else 0)\n",
      "C:\\Users\\LiwiaPadowska\\AppData\\Local\\Temp\\ipykernel_14848\\3889237732.py:19: SettingWithCopyWarning: \n",
      "A value is trying to be set on a copy of a slice from a DataFrame.\n",
      "Try using .loc[row_indexer,col_indexer] = value instead\n",
      "\n",
      "See the caveats in the documentation: https://pandas.pydata.org/pandas-docs/stable/user_guide/indexing.html#returning-a-view-versus-a-copy\n",
      "  test_df['predicted_rating'] = recsys.predict(test_df)\n",
      "C:\\Users\\LiwiaPadowska\\AppData\\Local\\Temp\\ipykernel_14848\\3889237732.py:20: SettingWithCopyWarning: \n",
      "A value is trying to be set on a copy of a slice from a DataFrame.\n",
      "Try using .loc[row_indexer,col_indexer] = value instead\n",
      "\n",
      "See the caveats in the documentation: https://pandas.pydata.org/pandas-docs/stable/user_guide/indexing.html#returning-a-view-versus-a-copy\n",
      "  test_df['relevant'] = test_df['rating'].apply(lambda x: 1 if x > 3 else 0)\n",
      "C:\\Users\\LiwiaPadowska\\AppData\\Local\\Temp\\ipykernel_14848\\3889237732.py:21: SettingWithCopyWarning: \n",
      "A value is trying to be set on a copy of a slice from a DataFrame.\n",
      "Try using .loc[row_indexer,col_indexer] = value instead\n",
      "\n",
      "See the caveats in the documentation: https://pandas.pydata.org/pandas-docs/stable/user_guide/indexing.html#returning-a-view-versus-a-copy\n",
      "  test_df['predicted_relevant'] = test_df['predicted_rating'].apply(lambda x: 1 if x > 3 else 0)\n",
      "C:\\Users\\LiwiaPadowska\\AppData\\Local\\Temp\\ipykernel_14848\\3889237732.py:19: SettingWithCopyWarning: \n",
      "A value is trying to be set on a copy of a slice from a DataFrame.\n",
      "Try using .loc[row_indexer,col_indexer] = value instead\n",
      "\n",
      "See the caveats in the documentation: https://pandas.pydata.org/pandas-docs/stable/user_guide/indexing.html#returning-a-view-versus-a-copy\n",
      "  test_df['predicted_rating'] = recsys.predict(test_df)\n",
      "C:\\Users\\LiwiaPadowska\\AppData\\Local\\Temp\\ipykernel_14848\\3889237732.py:20: SettingWithCopyWarning: \n",
      "A value is trying to be set on a copy of a slice from a DataFrame.\n",
      "Try using .loc[row_indexer,col_indexer] = value instead\n",
      "\n",
      "See the caveats in the documentation: https://pandas.pydata.org/pandas-docs/stable/user_guide/indexing.html#returning-a-view-versus-a-copy\n",
      "  test_df['relevant'] = test_df['rating'].apply(lambda x: 1 if x > 3 else 0)\n",
      "C:\\Users\\LiwiaPadowska\\AppData\\Local\\Temp\\ipykernel_14848\\3889237732.py:21: SettingWithCopyWarning: \n",
      "A value is trying to be set on a copy of a slice from a DataFrame.\n",
      "Try using .loc[row_indexer,col_indexer] = value instead\n",
      "\n",
      "See the caveats in the documentation: https://pandas.pydata.org/pandas-docs/stable/user_guide/indexing.html#returning-a-view-versus-a-copy\n",
      "  test_df['predicted_relevant'] = test_df['predicted_rating'].apply(lambda x: 1 if x > 3 else 0)\n",
      "C:\\Users\\LiwiaPadowska\\AppData\\Local\\Temp\\ipykernel_14848\\3889237732.py:19: SettingWithCopyWarning: \n",
      "A value is trying to be set on a copy of a slice from a DataFrame.\n",
      "Try using .loc[row_indexer,col_indexer] = value instead\n",
      "\n",
      "See the caveats in the documentation: https://pandas.pydata.org/pandas-docs/stable/user_guide/indexing.html#returning-a-view-versus-a-copy\n",
      "  test_df['predicted_rating'] = recsys.predict(test_df)\n",
      "C:\\Users\\LiwiaPadowska\\AppData\\Local\\Temp\\ipykernel_14848\\3889237732.py:20: SettingWithCopyWarning: \n",
      "A value is trying to be set on a copy of a slice from a DataFrame.\n",
      "Try using .loc[row_indexer,col_indexer] = value instead\n",
      "\n",
      "See the caveats in the documentation: https://pandas.pydata.org/pandas-docs/stable/user_guide/indexing.html#returning-a-view-versus-a-copy\n",
      "  test_df['relevant'] = test_df['rating'].apply(lambda x: 1 if x > 3 else 0)\n",
      "C:\\Users\\LiwiaPadowska\\AppData\\Local\\Temp\\ipykernel_14848\\3889237732.py:21: SettingWithCopyWarning: \n",
      "A value is trying to be set on a copy of a slice from a DataFrame.\n",
      "Try using .loc[row_indexer,col_indexer] = value instead\n",
      "\n",
      "See the caveats in the documentation: https://pandas.pydata.org/pandas-docs/stable/user_guide/indexing.html#returning-a-view-versus-a-copy\n",
      "  test_df['predicted_relevant'] = test_df['predicted_rating'].apply(lambda x: 1 if x > 3 else 0)\n",
      "C:\\Users\\LiwiaPadowska\\AppData\\Local\\Temp\\ipykernel_14848\\3889237732.py:19: SettingWithCopyWarning: \n",
      "A value is trying to be set on a copy of a slice from a DataFrame.\n",
      "Try using .loc[row_indexer,col_indexer] = value instead\n",
      "\n",
      "See the caveats in the documentation: https://pandas.pydata.org/pandas-docs/stable/user_guide/indexing.html#returning-a-view-versus-a-copy\n",
      "  test_df['predicted_rating'] = recsys.predict(test_df)\n",
      "C:\\Users\\LiwiaPadowska\\AppData\\Local\\Temp\\ipykernel_14848\\3889237732.py:20: SettingWithCopyWarning: \n",
      "A value is trying to be set on a copy of a slice from a DataFrame.\n",
      "Try using .loc[row_indexer,col_indexer] = value instead\n",
      "\n",
      "See the caveats in the documentation: https://pandas.pydata.org/pandas-docs/stable/user_guide/indexing.html#returning-a-view-versus-a-copy\n",
      "  test_df['relevant'] = test_df['rating'].apply(lambda x: 1 if x > 3 else 0)\n",
      "C:\\Users\\LiwiaPadowska\\AppData\\Local\\Temp\\ipykernel_14848\\3889237732.py:21: SettingWithCopyWarning: \n",
      "A value is trying to be set on a copy of a slice from a DataFrame.\n",
      "Try using .loc[row_indexer,col_indexer] = value instead\n",
      "\n",
      "See the caveats in the documentation: https://pandas.pydata.org/pandas-docs/stable/user_guide/indexing.html#returning-a-view-versus-a-copy\n",
      "  test_df['predicted_relevant'] = test_df['predicted_rating'].apply(lambda x: 1 if x > 3 else 0)\n"
     ]
    },
    {
     "data": {
      "text/plain": "{'avg_precision': 0.6833330263117419,\n 'stdv_precision': 0.0034025922357264196,\n 'avg_recall': 0.8733195124629811,\n 'stdv_recall': 0.004380894092400273,\n 'avg_fscore': 0.7667256812213586,\n 'stdv_fscore': 0.0028594436577961463}"
     },
     "metadata": {},
     "output_type": "display_data"
    },
    {
     "name": "stderr",
     "output_type": "stream",
     "text": [
      "C:\\Users\\LiwiaPadowska\\AppData\\Local\\Temp\\ipykernel_14848\\3889237732.py:19: SettingWithCopyWarning: \n",
      "A value is trying to be set on a copy of a slice from a DataFrame.\n",
      "Try using .loc[row_indexer,col_indexer] = value instead\n",
      "\n",
      "See the caveats in the documentation: https://pandas.pydata.org/pandas-docs/stable/user_guide/indexing.html#returning-a-view-versus-a-copy\n",
      "  test_df['predicted_rating'] = recsys.predict(test_df)\n",
      "C:\\Users\\LiwiaPadowska\\AppData\\Local\\Temp\\ipykernel_14848\\3889237732.py:20: SettingWithCopyWarning: \n",
      "A value is trying to be set on a copy of a slice from a DataFrame.\n",
      "Try using .loc[row_indexer,col_indexer] = value instead\n",
      "\n",
      "See the caveats in the documentation: https://pandas.pydata.org/pandas-docs/stable/user_guide/indexing.html#returning-a-view-versus-a-copy\n",
      "  test_df['relevant'] = test_df['rating'].apply(lambda x: 1 if x > 3 else 0)\n",
      "C:\\Users\\LiwiaPadowska\\AppData\\Local\\Temp\\ipykernel_14848\\3889237732.py:21: SettingWithCopyWarning: \n",
      "A value is trying to be set on a copy of a slice from a DataFrame.\n",
      "Try using .loc[row_indexer,col_indexer] = value instead\n",
      "\n",
      "See the caveats in the documentation: https://pandas.pydata.org/pandas-docs/stable/user_guide/indexing.html#returning-a-view-versus-a-copy\n",
      "  test_df['predicted_relevant'] = test_df['predicted_rating'].apply(lambda x: 1 if x > 3 else 0)\n",
      "C:\\Users\\LiwiaPadowska\\AppData\\Local\\Temp\\ipykernel_14848\\3889237732.py:19: SettingWithCopyWarning: \n",
      "A value is trying to be set on a copy of a slice from a DataFrame.\n",
      "Try using .loc[row_indexer,col_indexer] = value instead\n",
      "\n",
      "See the caveats in the documentation: https://pandas.pydata.org/pandas-docs/stable/user_guide/indexing.html#returning-a-view-versus-a-copy\n",
      "  test_df['predicted_rating'] = recsys.predict(test_df)\n",
      "C:\\Users\\LiwiaPadowska\\AppData\\Local\\Temp\\ipykernel_14848\\3889237732.py:20: SettingWithCopyWarning: \n",
      "A value is trying to be set on a copy of a slice from a DataFrame.\n",
      "Try using .loc[row_indexer,col_indexer] = value instead\n",
      "\n",
      "See the caveats in the documentation: https://pandas.pydata.org/pandas-docs/stable/user_guide/indexing.html#returning-a-view-versus-a-copy\n",
      "  test_df['relevant'] = test_df['rating'].apply(lambda x: 1 if x > 3 else 0)\n",
      "C:\\Users\\LiwiaPadowska\\AppData\\Local\\Temp\\ipykernel_14848\\3889237732.py:21: SettingWithCopyWarning: \n",
      "A value is trying to be set on a copy of a slice from a DataFrame.\n",
      "Try using .loc[row_indexer,col_indexer] = value instead\n",
      "\n",
      "See the caveats in the documentation: https://pandas.pydata.org/pandas-docs/stable/user_guide/indexing.html#returning-a-view-versus-a-copy\n",
      "  test_df['predicted_relevant'] = test_df['predicted_rating'].apply(lambda x: 1 if x > 3 else 0)\n",
      "C:\\Users\\LiwiaPadowska\\AppData\\Local\\Temp\\ipykernel_14848\\3889237732.py:19: SettingWithCopyWarning: \n",
      "A value is trying to be set on a copy of a slice from a DataFrame.\n",
      "Try using .loc[row_indexer,col_indexer] = value instead\n",
      "\n",
      "See the caveats in the documentation: https://pandas.pydata.org/pandas-docs/stable/user_guide/indexing.html#returning-a-view-versus-a-copy\n",
      "  test_df['predicted_rating'] = recsys.predict(test_df)\n",
      "C:\\Users\\LiwiaPadowska\\AppData\\Local\\Temp\\ipykernel_14848\\3889237732.py:20: SettingWithCopyWarning: \n",
      "A value is trying to be set on a copy of a slice from a DataFrame.\n",
      "Try using .loc[row_indexer,col_indexer] = value instead\n",
      "\n",
      "See the caveats in the documentation: https://pandas.pydata.org/pandas-docs/stable/user_guide/indexing.html#returning-a-view-versus-a-copy\n",
      "  test_df['relevant'] = test_df['rating'].apply(lambda x: 1 if x > 3 else 0)\n",
      "C:\\Users\\LiwiaPadowska\\AppData\\Local\\Temp\\ipykernel_14848\\3889237732.py:21: SettingWithCopyWarning: \n",
      "A value is trying to be set on a copy of a slice from a DataFrame.\n",
      "Try using .loc[row_indexer,col_indexer] = value instead\n",
      "\n",
      "See the caveats in the documentation: https://pandas.pydata.org/pandas-docs/stable/user_guide/indexing.html#returning-a-view-versus-a-copy\n",
      "  test_df['predicted_relevant'] = test_df['predicted_rating'].apply(lambda x: 1 if x > 3 else 0)\n",
      "C:\\Users\\LiwiaPadowska\\AppData\\Local\\Temp\\ipykernel_14848\\3889237732.py:19: SettingWithCopyWarning: \n",
      "A value is trying to be set on a copy of a slice from a DataFrame.\n",
      "Try using .loc[row_indexer,col_indexer] = value instead\n",
      "\n",
      "See the caveats in the documentation: https://pandas.pydata.org/pandas-docs/stable/user_guide/indexing.html#returning-a-view-versus-a-copy\n",
      "  test_df['predicted_rating'] = recsys.predict(test_df)\n",
      "C:\\Users\\LiwiaPadowska\\AppData\\Local\\Temp\\ipykernel_14848\\3889237732.py:20: SettingWithCopyWarning: \n",
      "A value is trying to be set on a copy of a slice from a DataFrame.\n",
      "Try using .loc[row_indexer,col_indexer] = value instead\n",
      "\n",
      "See the caveats in the documentation: https://pandas.pydata.org/pandas-docs/stable/user_guide/indexing.html#returning-a-view-versus-a-copy\n",
      "  test_df['relevant'] = test_df['rating'].apply(lambda x: 1 if x > 3 else 0)\n",
      "C:\\Users\\LiwiaPadowska\\AppData\\Local\\Temp\\ipykernel_14848\\3889237732.py:21: SettingWithCopyWarning: \n",
      "A value is trying to be set on a copy of a slice from a DataFrame.\n",
      "Try using .loc[row_indexer,col_indexer] = value instead\n",
      "\n",
      "See the caveats in the documentation: https://pandas.pydata.org/pandas-docs/stable/user_guide/indexing.html#returning-a-view-versus-a-copy\n",
      "  test_df['predicted_relevant'] = test_df['predicted_rating'].apply(lambda x: 1 if x > 3 else 0)\n",
      "C:\\Users\\LiwiaPadowska\\AppData\\Local\\Temp\\ipykernel_14848\\3889237732.py:19: SettingWithCopyWarning: \n",
      "A value is trying to be set on a copy of a slice from a DataFrame.\n",
      "Try using .loc[row_indexer,col_indexer] = value instead\n",
      "\n",
      "See the caveats in the documentation: https://pandas.pydata.org/pandas-docs/stable/user_guide/indexing.html#returning-a-view-versus-a-copy\n",
      "  test_df['predicted_rating'] = recsys.predict(test_df)\n",
      "C:\\Users\\LiwiaPadowska\\AppData\\Local\\Temp\\ipykernel_14848\\3889237732.py:20: SettingWithCopyWarning: \n",
      "A value is trying to be set on a copy of a slice from a DataFrame.\n",
      "Try using .loc[row_indexer,col_indexer] = value instead\n",
      "\n",
      "See the caveats in the documentation: https://pandas.pydata.org/pandas-docs/stable/user_guide/indexing.html#returning-a-view-versus-a-copy\n",
      "  test_df['relevant'] = test_df['rating'].apply(lambda x: 1 if x > 3 else 0)\n",
      "C:\\Users\\LiwiaPadowska\\AppData\\Local\\Temp\\ipykernel_14848\\3889237732.py:21: SettingWithCopyWarning: \n",
      "A value is trying to be set on a copy of a slice from a DataFrame.\n",
      "Try using .loc[row_indexer,col_indexer] = value instead\n",
      "\n",
      "See the caveats in the documentation: https://pandas.pydata.org/pandas-docs/stable/user_guide/indexing.html#returning-a-view-versus-a-copy\n",
      "  test_df['predicted_relevant'] = test_df['predicted_rating'].apply(lambda x: 1 if x > 3 else 0)\n"
     ]
    },
    {
     "data": {
      "text/plain": "{'avg_precision': 0.6803901031682839,\n 'stdv_precision': 0.005125730679983866,\n 'avg_recall': 0.8847099221734762,\n 'stdv_recall': 0.0030936676923337325,\n 'avg_fscore': 0.7692036126421999,\n 'stdv_fscore': 0.00358204268619671}"
     },
     "metadata": {},
     "output_type": "display_data"
    }
   ],
   "source": [
    "import matplotlib.pyplot as plt\n",
    "from sklearn.model_selection import KFold\n",
    "from sklearn.metrics import precision_recall_fscore_support\n",
    "import statistics\n",
    "\n",
    "def evaluate_collaborative_filtering_kfold(model, K):\n",
    "    kf = KFold(n_splits=K, shuffle=True)\n",
    "\n",
    "    precision_list = list()\n",
    "    recall_list = list()\n",
    "    fscore_list = list()\n",
    "\n",
    "    for train_index, test_index in kf.split(ratings_df):\n",
    "        train_df = ratings_df.iloc[train_index]\n",
    "        test_df = ratings_df.iloc[test_index]\n",
    "        recsys = Recommender.adapt(model)\n",
    "        recsys.fit(train_df)\n",
    "\n",
    "        test_df['predicted_rating'] = recsys.predict(test_df)\n",
    "        test_df['relevant'] = test_df['rating'].apply(lambda x: 1 if x > 3 else 0)\n",
    "        test_df['predicted_relevant'] = test_df['predicted_rating'].apply(lambda x: 1 if x > 3 else 0)\n",
    "\n",
    "        y_test = list(test_df['relevant'])\n",
    "        y_pred = list(test_df['predicted_relevant'])\n",
    "\n",
    "        precision, recall, fscore, _ = precision_recall_fscore_support(y_test, y_pred, average=\"binary\", zero_division=0)\n",
    "\n",
    "        if precision > 0:\n",
    "            precision_list.append(precision)\n",
    "        if recall > 0:\n",
    "            recall_list.append(recall)\n",
    "        if fscore > 0:\n",
    "            fscore_list.append(fscore)\n",
    "\n",
    "    avg_precision = statistics.mean(precision_list)\n",
    "    stdv_precision = statistics.stdev(precision_list)\n",
    "    avg_recall = statistics.mean(recall_list)\n",
    "    stdv_recall = statistics.stdev(recall_list)\n",
    "    avg_fscore = statistics.mean(fscore_list)\n",
    "    stdv_fscore = statistics.stdev(fscore_list)\n",
    "\n",
    "    results = {\n",
    "        'avg_precision': avg_precision,\n",
    "        'stdv_precision': stdv_precision,\n",
    "        'avg_recall': avg_recall,\n",
    "        'stdv_recall': stdv_recall,\n",
    "        'avg_fscore': avg_fscore,\n",
    "        'stdv_fscore': stdv_fscore\n",
    "    }\n",
    "\n",
    "    display(results)\n",
    "\n",
    "    return results\n",
    "\n",
    "user_user_metrics = evaluate_collaborative_filtering_kfold(user_user, 5)\n",
    "item_item_metrics = evaluate_collaborative_filtering_kfold(item_item, 5)"
   ],
   "metadata": {
    "collapsed": false
   }
  },
  {
   "cell_type": "code",
   "execution_count": null,
   "outputs": [],
   "source": [],
   "metadata": {
    "collapsed": false,
    "ExecuteTime": {
     "start_time": "2023-10-08T13:46:05.250593200Z"
    }
   }
  }
 ],
 "metadata": {
  "kernelspec": {
   "display_name": "Python 3",
   "language": "python",
   "name": "python3"
  },
  "language_info": {
   "codemirror_mode": {
    "name": "ipython",
    "version": 2
   },
   "file_extension": ".py",
   "mimetype": "text/x-python",
   "name": "python",
   "nbconvert_exporter": "python",
   "pygments_lexer": "ipython2",
   "version": "2.7.6"
  }
 },
 "nbformat": 4,
 "nbformat_minor": 0
}
